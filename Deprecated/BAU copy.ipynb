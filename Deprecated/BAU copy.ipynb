{
 "metadata": {
  "language_info": {
   "codemirror_mode": {
    "name": "ipython",
    "version": 3
   },
   "file_extension": ".py",
   "mimetype": "text/x-python",
   "name": "python",
   "nbconvert_exporter": "python",
   "pygments_lexer": "ipython3",
   "version": "3.8.5-final"
  },
  "orig_nbformat": 2,
  "kernelspec": {
   "name": "python_defaultSpec_1599981065933",
   "display_name": "Python 3.8.5 64-bit ('FPS38': conda)"
  }
 },
 "nbformat": 4,
 "nbformat_minor": 2,
 "cells": [
  {
   "cell_type": "code",
   "execution_count": 29,
   "metadata": {},
   "outputs": [],
   "source": [
    "import numpy as np\n",
    "from numpy.core.fromnumeric import shape\n",
    "import pandas as pd\n",
    "import datetime as dt\n",
    "import glob\n",
    "import pickle\n",
    "import global_variables as gv\n",
    "import functions as f\n",
    "import random\n",
    "import matplotlib.pyplot as plt"
   ]
  },
  {
   "cell_type": "code",
   "execution_count": 41,
   "metadata": {},
   "outputs": [],
   "source": [
    "# Import journey and price data\n",
    "\n",
    "journeys_range = pickle.load(open('Outputs/journeys_range','rb'))\n",
    "price_data = pickle.load(open('Outputs/price_data','rb'))\n"
   ]
  },
  {
   "cell_type": "code",
   "execution_count": 43,
   "metadata": {},
   "outputs": [
    {
     "output_type": "execute_result",
     "data": {
      "text/plain": "                     Branch_ID Start_Time_of_Route   End_Time_of_Route  \\\ndate       Route_ID                                                      \n2019-02-10 2104108         513 2019-02-10 05:27:00 2019-02-10 12:35:00   \n           2104116         513 2019-02-10 05:42:00 2019-02-10 13:14:00   \n           2104120         513 2019-02-10 13:29:00 2019-02-10 20:17:59   \n           2104123         513 2019-02-10 13:15:00 2019-02-10 21:24:59   \n           2104125         513 2019-02-10 13:15:00 2019-02-10 22:02:00   \n...                        ...                 ...                 ...   \n2019-02-17 2112902         513 2019-02-17 06:46:59 2019-02-17 13:40:00   \n           2112903         513 2019-02-17 06:14:59 2019-02-17 13:30:00   \n           2112906         513 2019-02-17 06:23:00 2019-02-17 13:51:00   \n           2112913         513 2019-02-17 06:42:00 2019-02-17 14:11:00   \n           2112914         513 2019-02-17 06:47:59 2019-02-17 14:01:00   \n\n                     Energy_Required  Vehicle_ID      Next_Departure  \\\ndate       Route_ID                                                    \n2019-02-10 2104108         26.571267           3 2019-02-10 13:15:00   \n           2104116         23.569667           4 2019-02-10 13:15:00   \n           2104120         26.296093          12 2019-02-11 05:45:00   \n           2104123         27.635793           3 2019-02-11 05:15:00   \n           2104125         30.475507           4 2019-02-11 05:15:00   \n...                              ...         ...                 ...   \n2019-02-17 2112902         19.250487          22 2019-02-17 15:45:00   \n           2112903         25.309860          12 2019-02-17 14:24:00   \n           2112906         25.225453          16 2019-02-17 14:45:00   \n           2112913         26.972127          20 2019-02-17 15:23:59   \n           2112914         37.156593          23 2019-02-17 16:02:00   \n\n                       Previous_Arrival  \ndate       Route_ID                      \n2019-02-10 2104108  2019-02-09 21:51:00  \n           2104116  2019-02-09 21:35:00  \n           2104120  2019-02-10 12:46:00  \n           2104123  2019-02-10 12:35:00  \n           2104125  2019-02-10 13:14:00  \n...                                 ...  \n2019-02-17 2112902  2019-02-16 14:05:00  \n           2112903  2019-02-16 13:24:00  \n           2112906  2019-02-16 13:46:00  \n           2112913  2019-02-16 13:33:59  \n           2112914  2019-02-16 14:26:00  \n\n[142 rows x 7 columns]",
      "text/html": "<div>\n<style scoped>\n    .dataframe tbody tr th:only-of-type {\n        vertical-align: middle;\n    }\n\n    .dataframe tbody tr th {\n        vertical-align: top;\n    }\n\n    .dataframe thead th {\n        text-align: right;\n    }\n</style>\n<table border=\"1\" class=\"dataframe\">\n  <thead>\n    <tr style=\"text-align: right;\">\n      <th></th>\n      <th></th>\n      <th>Branch_ID</th>\n      <th>Start_Time_of_Route</th>\n      <th>End_Time_of_Route</th>\n      <th>Energy_Required</th>\n      <th>Vehicle_ID</th>\n      <th>Next_Departure</th>\n      <th>Previous_Arrival</th>\n    </tr>\n    <tr>\n      <th>date</th>\n      <th>Route_ID</th>\n      <th></th>\n      <th></th>\n      <th></th>\n      <th></th>\n      <th></th>\n      <th></th>\n      <th></th>\n    </tr>\n  </thead>\n  <tbody>\n    <tr>\n      <th rowspan=\"5\" valign=\"top\">2019-02-10</th>\n      <th>2104108</th>\n      <td>513</td>\n      <td>2019-02-10 05:27:00</td>\n      <td>2019-02-10 12:35:00</td>\n      <td>26.571267</td>\n      <td>3</td>\n      <td>2019-02-10 13:15:00</td>\n      <td>2019-02-09 21:51:00</td>\n    </tr>\n    <tr>\n      <th>2104116</th>\n      <td>513</td>\n      <td>2019-02-10 05:42:00</td>\n      <td>2019-02-10 13:14:00</td>\n      <td>23.569667</td>\n      <td>4</td>\n      <td>2019-02-10 13:15:00</td>\n      <td>2019-02-09 21:35:00</td>\n    </tr>\n    <tr>\n      <th>2104120</th>\n      <td>513</td>\n      <td>2019-02-10 13:29:00</td>\n      <td>2019-02-10 20:17:59</td>\n      <td>26.296093</td>\n      <td>12</td>\n      <td>2019-02-11 05:45:00</td>\n      <td>2019-02-10 12:46:00</td>\n    </tr>\n    <tr>\n      <th>2104123</th>\n      <td>513</td>\n      <td>2019-02-10 13:15:00</td>\n      <td>2019-02-10 21:24:59</td>\n      <td>27.635793</td>\n      <td>3</td>\n      <td>2019-02-11 05:15:00</td>\n      <td>2019-02-10 12:35:00</td>\n    </tr>\n    <tr>\n      <th>2104125</th>\n      <td>513</td>\n      <td>2019-02-10 13:15:00</td>\n      <td>2019-02-10 22:02:00</td>\n      <td>30.475507</td>\n      <td>4</td>\n      <td>2019-02-11 05:15:00</td>\n      <td>2019-02-10 13:14:00</td>\n    </tr>\n    <tr>\n      <th>...</th>\n      <th>...</th>\n      <td>...</td>\n      <td>...</td>\n      <td>...</td>\n      <td>...</td>\n      <td>...</td>\n      <td>...</td>\n      <td>...</td>\n    </tr>\n    <tr>\n      <th rowspan=\"5\" valign=\"top\">2019-02-17</th>\n      <th>2112902</th>\n      <td>513</td>\n      <td>2019-02-17 06:46:59</td>\n      <td>2019-02-17 13:40:00</td>\n      <td>19.250487</td>\n      <td>22</td>\n      <td>2019-02-17 15:45:00</td>\n      <td>2019-02-16 14:05:00</td>\n    </tr>\n    <tr>\n      <th>2112903</th>\n      <td>513</td>\n      <td>2019-02-17 06:14:59</td>\n      <td>2019-02-17 13:30:00</td>\n      <td>25.309860</td>\n      <td>12</td>\n      <td>2019-02-17 14:24:00</td>\n      <td>2019-02-16 13:24:00</td>\n    </tr>\n    <tr>\n      <th>2112906</th>\n      <td>513</td>\n      <td>2019-02-17 06:23:00</td>\n      <td>2019-02-17 13:51:00</td>\n      <td>25.225453</td>\n      <td>16</td>\n      <td>2019-02-17 14:45:00</td>\n      <td>2019-02-16 13:46:00</td>\n    </tr>\n    <tr>\n      <th>2112913</th>\n      <td>513</td>\n      <td>2019-02-17 06:42:00</td>\n      <td>2019-02-17 14:11:00</td>\n      <td>26.972127</td>\n      <td>20</td>\n      <td>2019-02-17 15:23:59</td>\n      <td>2019-02-16 13:33:59</td>\n    </tr>\n    <tr>\n      <th>2112914</th>\n      <td>513</td>\n      <td>2019-02-17 06:47:59</td>\n      <td>2019-02-17 14:01:00</td>\n      <td>37.156593</td>\n      <td>23</td>\n      <td>2019-02-17 16:02:00</td>\n      <td>2019-02-16 14:26:00</td>\n    </tr>\n  </tbody>\n</table>\n<p>142 rows × 7 columns</p>\n</div>"
     },
     "metadata": {},
     "execution_count": 43
    }
   ],
   "source": [
    "journeys_range"
   ]
  },
  {
   "cell_type": "code",
   "execution_count": 45,
   "metadata": {},
   "outputs": [],
   "source": [
    "# Create function for one route, in one day\n",
    "def singleroute_BAU_schedule(journeys, day, route, eprice):\n",
    "    mask = ( (eprice['from'] >= dt.datetime.combine(day, gv.CHAR_ST)) \n",
    "    & (eprice['from'] < dt.datetime.combine(day + dt.timedelta(days=1), gv.CHAR_ST)))\n",
    "    single_profile = eprice[mask][['from','Electricity_Price','Time_Price']].copy()\n",
    "    single_profile['Route_ID'] = route\n",
    "    single_profile['Vehicle_ID'] = journeys.loc[(day,route)]['Vehicle_ID']\n",
    "    return single_profile\n",
    "\n",
    "def BAU_charging(journeys, eprice): # TODO change to empty charging\n",
    "    # Create df for charge profile, with time slots in that time range. \n",
    "    _, time_range = f.create_empty_schedule(journeys, eprice) # TODO Make this efficient\n",
    "    # Iterate over each day\n",
    "    dates = journeys.index.unique(level='date')\n",
    "    # print(dates)\n",
    "    day_profile = {}\n",
    "    vehicles = journeys['Vehicle_ID'].unique()\n",
    "    for date in dates:\n",
    "        day = date.to_pydatetime()\n",
    "        if day.date() == time_range[1].date():\n",
    "            break\n",
    "        # Iterate over routes, copy to correct column\n",
    "        route_profiles = {}\n",
    "        for route in journeys.loc[day].index:\n",
    "            route_profiles[route] = singleroute_BAU_schedule(\n",
    "                journeys, \n",
    "                day, \n",
    "                route, \n",
    "                eprice)\n",
    "        day_profile[day] = pd.concat(list(route_profiles.values()))\n",
    "    profiles = pd.concat(list(day_profile.values()))\n",
    "    profiles.sort_values(by=['from','Route_ID'],inplace=True)\n",
    "    profiles.set_index(['from','Route_ID'],inplace=True)\n",
    "    return profiles"
   ]
  },
  {
   "cell_type": "code",
   "execution_count": 46,
   "metadata": {},
   "outputs": [],
   "source": [
    "BAU_profile = BAU_charging(journeys_range, price_data)\n",
    "pickle.dump(BAU_profile,open('Outputs/BAU_profile','wb'))"
   ]
  },
  {
   "cell_type": "code",
   "execution_count": 40,
   "metadata": {},
   "outputs": [
    {
     "output_type": "execute_result",
     "data": {
      "text/plain": "                              Electricity_Price  Time_Price  Vehicle_ID\nfrom                Route_ID                                           \n2019-02-10 11:00:00 2104108               12.26         502           3\n                    2104116               12.26         502           4\n                    2104120               12.26         502          12\n                    2104123               12.26         502           3\n                    2104125               12.26         502           4\n...                                         ...         ...         ...\n2019-02-17 10:30:00 2111880               10.40         837          23\n                    2111882               10.40         837          20\n                    2111887               10.40         837          16\n                    2111889               10.40         837          14\n                    2111897               10.40         837          22\n\n[5856 rows x 3 columns]",
      "text/html": "<div>\n<style scoped>\n    .dataframe tbody tr th:only-of-type {\n        vertical-align: middle;\n    }\n\n    .dataframe tbody tr th {\n        vertical-align: top;\n    }\n\n    .dataframe thead th {\n        text-align: right;\n    }\n</style>\n<table border=\"1\" class=\"dataframe\">\n  <thead>\n    <tr style=\"text-align: right;\">\n      <th></th>\n      <th></th>\n      <th>Electricity_Price</th>\n      <th>Time_Price</th>\n      <th>Vehicle_ID</th>\n    </tr>\n    <tr>\n      <th>from</th>\n      <th>Route_ID</th>\n      <th></th>\n      <th></th>\n      <th></th>\n    </tr>\n  </thead>\n  <tbody>\n    <tr>\n      <th rowspan=\"5\" valign=\"top\">2019-02-10 11:00:00</th>\n      <th>2104108</th>\n      <td>12.26</td>\n      <td>502</td>\n      <td>3</td>\n    </tr>\n    <tr>\n      <th>2104116</th>\n      <td>12.26</td>\n      <td>502</td>\n      <td>4</td>\n    </tr>\n    <tr>\n      <th>2104120</th>\n      <td>12.26</td>\n      <td>502</td>\n      <td>12</td>\n    </tr>\n    <tr>\n      <th>2104123</th>\n      <td>12.26</td>\n      <td>502</td>\n      <td>3</td>\n    </tr>\n    <tr>\n      <th>2104125</th>\n      <td>12.26</td>\n      <td>502</td>\n      <td>4</td>\n    </tr>\n    <tr>\n      <th>...</th>\n      <th>...</th>\n      <td>...</td>\n      <td>...</td>\n      <td>...</td>\n    </tr>\n    <tr>\n      <th rowspan=\"5\" valign=\"top\">2019-02-17 10:30:00</th>\n      <th>2111880</th>\n      <td>10.40</td>\n      <td>837</td>\n      <td>23</td>\n    </tr>\n    <tr>\n      <th>2111882</th>\n      <td>10.40</td>\n      <td>837</td>\n      <td>20</td>\n    </tr>\n    <tr>\n      <th>2111887</th>\n      <td>10.40</td>\n      <td>837</td>\n      <td>16</td>\n    </tr>\n    <tr>\n      <th>2111889</th>\n      <td>10.40</td>\n      <td>837</td>\n      <td>14</td>\n    </tr>\n    <tr>\n      <th>2111897</th>\n      <td>10.40</td>\n      <td>837</td>\n      <td>22</td>\n    </tr>\n  </tbody>\n</table>\n<p>5856 rows × 3 columns</p>\n</div>"
     },
     "metadata": {},
     "execution_count": 40
    }
   ],
   "source": [
    "BAU_profile"
   ]
  },
  {
   "cell_type": "code",
   "execution_count": null,
   "metadata": {},
   "outputs": [],
   "source": []
  }
 ]
}