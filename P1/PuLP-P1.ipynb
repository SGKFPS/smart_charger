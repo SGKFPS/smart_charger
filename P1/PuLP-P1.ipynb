{
 "metadata": {
  "language_info": {
   "codemirror_mode": {
    "name": "ipython",
    "version": 3
   },
   "file_extension": ".py",
   "mimetype": "text/x-python",
   "name": "python",
   "nbconvert_exporter": "python",
   "pygments_lexer": "ipython3",
   "version": "3.8.5-final"
  },
  "orig_nbformat": 2,
  "kernelspec": {
   "name": "Python 3.8.5 64-bit ('FPS38': conda)",
   "display_name": "Python 3.8.5 64-bit ('FPS38': conda)",
   "metadata": {
    "interpreter": {
     "hash": "91a28da8d0f15e5b7ab6a9b790172cac9717f79b31a5db2469631675496b90ed"
    }
   }
  }
 },
 "nbformat": 4,
 "nbformat_minor": 2,
 "cells": [
  {
   "cell_type": "code",
   "execution_count": null,
   "metadata": {
    "tags": []
   },
   "outputs": [],
   "source": [
    "# First approach to Smart Charging Phase 1 using PuLP.\n",
    "# Modeled as a PuLP optimisation blending problem\n",
    "# Started 20 Aug 2020\n",
    "# Author: Sofia Taylor, Flexible Power Systems\n",
    "\n",
    "import numpy as np\n",
    "import pandas as pd\n",
    "import datetime as dt\n",
    "from pulp import *\n",
    "import pickle\n",
    "import global_variables as gv\n",
    "import output_functions as of\n",
    "import matplotlib as mpl\n",
    "import matplotlib.pyplot as plt\n",
    "import time\n",
    "import random\n",
    "import matplotlib.dates as mdates\n",
    "import matplotlib.font_manager as font_manager\n",
    "import lin_prog_functions as lpf\n",
    "import testdata_proc as pf\n",
    "import plotly.graph_objects as go\n",
    "import plotly.io as pio"
   ]
  },
  {
   "cell_type": "code",
   "execution_count": null,
   "metadata": {},
   "outputs": [],
   "source": [
    "# grid_file_path = 'Outputs/Logs/grid_variables{}.csv'.format(run)\n",
    "journeys_range = pickle.load(open('Outputs/journeys_range','rb'))\n",
    "price_data = pickle.load(open('Outputs/price_data','rb'))\n",
    "empty_profile = pickle.load(open('Outputs/empty_profile','rb'))\n",
    "chargers = [22,22]\n",
    "charger = 22\n",
    "capacity = 40\n",
    "ca='opt'\n",
    "site_capacity = {\n",
    "    'opt': capacity,  \n",
    "    'BAU': 10000,\n",
    "    'BAU2': capacity\n",
    "}"
   ]
  },
  {
   "cell_type": "code",
   "execution_count": null,
   "metadata": {},
   "outputs": [],
   "source": [
    "empty_profile = empty_profile.loc[(slice(None), 3), :]"
   ]
  },
  {
   "cell_type": "code",
   "execution_count": null,
   "metadata": {
    "tags": []
   },
   "outputs": [],
   "source": [
    "## Single Day test\n",
    "req_energy = empty_profile.groupby(\n",
    "    ['date','Vehicle_ID']).sum()[['Battery_Use']]*(\n",
    "        1+gv.MARGIN_SOC)\n",
    "last_day = req_energy.index[-1][0]+dt.timedelta(days=1)\n",
    "for v in empty_profile.index.get_level_values('Vehicle_ID').unique():\n",
    "    req_energy.loc[(last_day,v),'Battery_Use'] = 0\n",
    "battery_cap = gv.VSPEC['Vivaro_LR']['C']\n",
    "req_energy['Full_Use'] = -battery_cap\n",
    "req_energy['Req_Battery'] = req_energy[['Battery_Use','Full_Use']].max(axis=1)\n",
    "day = dt.datetime(2019,4,29)\n",
    "day_profile = pf.create_daily_schedule(empty_profile, day)\n",
    "next_req = req_energy.loc[(day+dt.timedelta(days=1),slice(None)),'Req_Battery'].droplevel(level=0)\n",
    "initial_rel_charge = pd.Series(\n",
    "        data = [0],  # *gv.NUM_VEHICLES,\n",
    "        index = empty_profile.index.get_level_values(1).unique()\n",
    "    )\n",
    "output_df, PuLP_prob, fsoc, _, opt_level = lpf.linear_optimiser_V4(\n",
    "                    day_profile,\n",
    "                    ca,\n",
    "                    chargers[0],chargers[1],\n",
    "                    capacity,\n",
    "                    initial_rel_charge,\n",
    "                    next_req, battery_cap\n",
    "                    )\n",
    "\n",
    "day_profile_out = day_profile.merge(\n",
    "                output_df,\n",
    "                how='left',\n",
    "                left_index=True,\n",
    "                right_index=True,\n",
    "                )\n",
    "range_profile = day_profile_out.fillna(0)\n",
    "cols=gv.CAT_COLS\n",
    "vehicles = output_df.index.get_level_values(1).unique()\n",
    "\n",
    "range_profile[cols['CHARGE_DEL'][ca]] = (\n",
    "    range_profile[cols['OUTPUT'][ca]] \n",
    "    * gv.CHARGER_EFF)\n",
    "range_profile[cols['ECOST'][ca]] = (\n",
    "    range_profile[cols['OUTPUT'][ca]] \n",
    "    * range_profile[cols['PRICE']['opt']])\n",
    "for vehicle in vehicles:\n",
    "    range_profile.loc[(slice(None),vehicle),cols['SOC'][ca]] = (\n",
    "        battery_cap + initial_rel_charge\n",
    "        + range_profile.loc[(slice(None),vehicle),cols['CHARGE_DEL'][ca]].cumsum() \n",
    "        + range_profile.loc[(slice(None),vehicle),'Battery_Use'].cumsum()\n",
    "        )*100/battery_cap"
   ]
  },
  {
   "cell_type": "code",
   "execution_count": null,
   "metadata": {},
   "outputs": [],
   "source": [
    "fig, axs = plt.subplots(\n",
    "    4,\n",
    "    figsize=(12,10),\n",
    "    sharex=True, \n",
    "    gridspec_kw={'hspace':0.1})\n",
    "ca='opt'\n",
    "x = range_profile.unstack().index.strftime('%H:%M')\n",
    "cols = gv.CAT_COLS\n",
    "\n",
    "axs[0].plot(\n",
    "    x, \n",
    "    range_profile.unstack()[cols['OUTPUT'][ca]]*2)\n",
    "axs[0].legend(range_profile.unstack()[cols['OUTPUT'][ca]].columns)\n",
    "# axs[0].plot(\n",
    "#     x,\n",
    "#     range_profile[cols['OUTPUT'][ca]].groupby('from').sum()*2, linewidth=3)\n",
    "axs[0].set_ylabel('Demand (kW)')\n",
    "\n",
    "axs[1].plot(\n",
    "    x,\n",
    "    range_profile.unstack()[cols['ECOST'][ca]]/100)\n",
    "# axs[1].plot(\n",
    "#     x,\n",
    "#     range_profile[cols['ECOST'][ca]].groupby('from').sum()/100, linewidth=3)\n",
    "axs[1].set_ylabel('Electricity Costs (GBP)')\n",
    "\n",
    "axs[2].plot(\n",
    "    x, \n",
    "    range_profile.unstack()[cols['SOC'][ca]])\n",
    "axs[2].plot(\n",
    "    x,\n",
    "    range_profile[cols['SOC'][ca]].groupby('from').mean(), linewidth=3)\n",
    "axs[2].set_ylabel('SOC(%)')\n",
    "\n",
    "axs[3].plot(\n",
    "    x,\n",
    "    range_profile.unstack()[cols['PRICE']['opt']], \n",
    "    color=gv.FPS_PURPLE)\n",
    "axs[3].set_ylabel('Electricity Price (p/kWh)')\n",
    "for ax in fig.get_axes():\n",
    "    ax.xaxis.set_major_locator(plt.MaxNLocator(24))\n",
    "fig.show()\n",
    "\n",
    "# print((range_profile[cols['OUTPUT'][ca]].groupby('from').sum()>capacity/2).sum())\n",
    "# grouped = range_profile[cols['OUTPUT'][ca]].groupby('from').sum()\n",
    "# grouped[grouped>capacity/2]"
   ]
  },
  {
   "cell_type": "code",
   "execution_count": null,
   "metadata": {},
   "outputs": [],
   "source": [
    "range_profile.sort_values(by='SoC_Opt').head()"
   ]
  },
  {
   "cell_type": "code",
   "execution_count": null,
   "metadata": {
    "tags": []
   },
   "outputs": [],
   "source": [
    "# ## Range Test\n",
    "\n",
    "# run = 130\n",
    "# notes = 'Test'\n",
    "\n",
    "# script_strt = time.process_time()\n",
    "# print('Run:',run,'/ Charger:',chargers[0],chargers[1],'/ Capacity:',capacity)\n",
    "# os.makedirs('Outputs/Logs/run{}'.format(run))\n",
    "\n",
    "# profile_out, dates, bad_days, lpprob, status = lpf.optimise_range2(\n",
    "#     empty_profile, \n",
    "#     chargers, \n",
    "#     site_capacity)\n",
    "\n",
    "# range_profile, site_profile, days_summary, global_summary = of.summary_outputs(\n",
    "#     profile_out, \n",
    "#     journeys_range,     capacity, status)\n",
    "\n",
    "# os.makedirs('Outputs/Logs/run{}/daily'.format(run))\n",
    "# for date in dates:\n",
    "#     day = dt.datetime.combine(date, dt.datetime.min.time())\n",
    "#     day_profile = of.create_daily_summary(site_profile, day)\n",
    "#     fig_summary = of.summary_plot(day_profile)\n",
    "#     fig_summary.savefig(\n",
    "#         'Outputs/Logs/run{}/daily/fig{}.jpg'.format(run,date))\n",
    "#     plt.close(fig_summary)\n",
    "\n",
    "# with open('Outputs/Logs/run{}/variables{}.csv'.format(run,run),'a') as fi:\n",
    "#     fi.write(notes)\n",
    "#     fi.write('\\n' + str(run)+','+str(charger) + ',' + str(capacity) +'\\n')\n",
    "#     fi.write(global_summary.to_string())\n",
    "#     fi.write(bad_days)\n",
    "\n",
    "# range_fig = of.daily_summary_plot(days_summary.fillna(0))\n",
    "# range_fig.savefig(\n",
    "#             'Outputs/Logs/run{}/fig_range{}.svg'.format(run,run),\n",
    "#             bbox_inches = \"tight\")\n",
    "# range_fig.show()"
   ]
  },
  {
   "cell_type": "code",
   "execution_count": null,
   "metadata": {},
   "outputs": [],
   "source": []
  }
 ]
}