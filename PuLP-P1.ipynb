{
 "metadata": {
  "language_info": {
   "codemirror_mode": {
    "name": "ipython",
    "version": 3
   },
   "file_extension": ".py",
   "mimetype": "text/x-python",
   "name": "python",
   "nbconvert_exporter": "python",
   "pygments_lexer": "ipython3",
   "version": "3.8.4-final"
  },
  "orig_nbformat": 2,
  "kernelspec": {
   "name": "python38464bitfpsscconda670f76bc6a1e4677963572c958c44815",
   "display_name": "Python 3.8.4 64-bit ('FPS-sc': conda)"
  }
 },
 "nbformat": 4,
 "nbformat_minor": 2,
 "cells": [
  {
   "cell_type": "code",
   "execution_count": null,
   "metadata": {},
   "outputs": [],
   "source": [
    "# First approach to Smart Charging Phase 1 using PuLP.\n",
    "# Modeled as a PuLP optimisation blending problem\n",
    "# Started 20 Aug 2020\n",
    "# Author: Sofia Taylor, Flexible Power Systems\n",
    "\n",
    "import numpy as np\n",
    "import pandas as pd\n",
    "import datetime as dt\n",
    "from pulp import *\n",
    "import pickle\n",
    "import global_variables as gv\n",
    "import functions as f\n",
    "import matplotlib.pyplot as plt"
   ]
  },
  {
   "cell_type": "code",
   "execution_count": null,
   "metadata": {},
   "outputs": [],
   "source": [
    "# Import journey and price data\n",
    "\n",
    "prot_journeys = pickle.load(open('Data/prototype_week','rb'))\n",
    "test_journeys = pickle.load(open('Data/test_week','rb'))\n",
    "BAU_profile = pickle.load(open('Data/BAU_profile','rb'))\n",
    "day_journeys = f.get_daily_data(prot_journeys, gv.DAY)\n",
    "day_profile = f.create_daily_schedule(BAU_profile, gv.DAY)"
   ]
  },
  {
   "cell_type": "code",
   "execution_count": null,
   "metadata": {},
   "outputs": [],
   "source": [
    "# Check if algorithm is working fine\n",
    "\n",
    "day_journeys.loc[0,'End_Time_of_Route'] = dt.datetime(2019,2,10,17,0,21)\n",
    "day_journeys.head()"
   ]
  },
  {
   "cell_type": "code",
   "execution_count": null,
   "metadata": {},
   "outputs": [],
   "source": [
    "# Define output variable\n",
    "outputs = LpVariable.dicts(\"output\",\n",
    "((period, vehicle) for period, vehicle in day_profile.index),\n",
    "lowBound = 0,\n",
    "upBound = 3.5,\n",
    "cat = \"Continuous\"\n",
    ")"
   ]
  },
  {
   "cell_type": "code",
   "execution_count": null,
   "metadata": {},
   "outputs": [],
   "source": [
    "# Create the 'prob' variable to contain the problem data\n",
    "prob = LpProblem(\"Multiple_vehicle_scheduling\",LpMinimize)\n",
    "\n",
    "# Add costs to objective function\n",
    "\n",
    "prob += lpSum(\n",
    "    [day_profile.loc[(period, vehicle), 'unit_rate_excl_vat'] * outputs[period, vehicle] for period, vehicle in day_profile.index]\n",
    "    ), \"Total Charging costs\"\n",
    "\n",
    "# Final SOC constraint\n",
    "time_period = day_profile.index.get_level_values(0)\n",
    "vehicles = day_journeys.index\n",
    "\n",
    "for vehicle in vehicles:\n",
    "    prob += lpSum(\n",
    "        [outputs[period, vehicle] for period in time_period])/gv.NUM_VEHICLES == day_journeys.loc[vehicle, 'Energy_Required'] / gv.CHARGER_EFF\n",
    "\n",
    "# Output after/before departure/arrival is 0\n",
    "\n",
    "for period, vehicle in day_profile.index:\n",
    "    arrival = day_journeys.loc[vehicle, \"End_Time_of_Route\"]\n",
    "    departure = day_journeys.loc[vehicle, \"Start_next_route\"]\n",
    "    if period < arrival:\n",
    "        prob += outputs[(period, vehicle)] == 0\n",
    "    elif period + dt.timedelta(minutes=30) > departure:\n",
    "        prob += outputs[period, vehicle] == 0\n",
    "\n",
    "# Max capacity constraint\n",
    "for period in time_period:\n",
    "    prob += lpSum(\n",
    "        [outputs[period, vehicle] for vehicle in vehicles]) <= gv.SITE_CAPACITY"
   ]
  },
  {
   "cell_type": "code",
   "execution_count": null,
   "metadata": {},
   "outputs": [],
   "source": [
    "prob"
   ]
  },
  {
   "cell_type": "code",
   "execution_count": null,
   "metadata": {
    "tags": []
   },
   "outputs": [],
   "source": [
    "# The problem data is written to an .lp file\n",
    "prob.writeLP(\"Models/multi_vehicle.lp\")\n",
    "\n",
    "# The problem is solved using PuLP's choice of Solver\n",
    "prob.solve()\n",
    "\n",
    "# The status of the solution is printed to the screen\n",
    "print(\"Status:\", LpStatus[prob.status])\n",
    "\n",
    "# Get output variables\n",
    "charge_output = []\n",
    "\n",
    "for period, vehicle in outputs:\n",
    "    var_output = {\n",
    "        'from': period,\n",
    "        'Vehicle': vehicle,\n",
    "        'Output_Opt': outputs[(period, vehicle)].varValue\n",
    "    }\n",
    "    charge_output.append(var_output)\n",
    "\n",
    "output_df = pd.DataFrame.from_records(charge_output).sort_values(['from','Vehicle'])\n",
    "output_df.set_index(['from', 'Vehicle'], inplace=True)\n",
    "print('Cost:', value(prob.objective))\n",
    "day_profile = day_profile.merge(\n",
    "    output_df,\n",
    "    how='left',\n",
    "    left_index=True,\n",
    "    right_index=True,\n",
    "    )\n"
   ]
  },
  {
   "cell_type": "code",
   "execution_count": null,
   "metadata": {},
   "outputs": [],
   "source": [
    "def profile_summary_columns(profile, journeys):\n",
    "    day_profile = profile.copy()\n",
    "    day_profile['Charge_Delivered_Opt'] = day_profile['Output_Opt'] * gv.CHARGER_EFF\n",
    "    day_profile['Charge_Delivered_BAU'] = day_profile['Output_BAU'] * gv.CHARGER_EFF\n",
    "    day_profile['Electricity_Cost_Opt'] = day_profile['Output_Opt'] * day_profile['unit_rate_excl_vat']\n",
    "    day_profile['Electricity_Cost_BAU'] = day_profile['Output_BAU'] * day_profile['unit_rate_excl_vat']\n",
    "    for vehicle in vehicles:\n",
    "        opt_soc = round(gv.BATTERY_CAPACITY - journeys.loc[vehicle,'Energy_Required'] + day_profile.loc[(slice(None),vehicle),'Charge_Delivered_Opt'].cumsum(),3)\n",
    "        day_profile.loc[(slice(None),vehicle),'SOC_Opt'] = opt_soc\n",
    "        opt_BAU = round(gv.BATTERY_CAPACITY - journeys.loc[vehicle,'Energy_Required'] + day_profile.loc[(slice(None),vehicle),'Charge_Delivered_BAU'].cumsum(),3)\n",
    "        day_profile.loc[(slice(None),vehicle),'SOC_BAU'] = opt_BAU\n",
    "    return day_profile"
   ]
  },
  {
   "cell_type": "code",
   "execution_count": null,
   "metadata": {},
   "outputs": [],
   "source": [
    "# # Get information columns\n",
    "\n",
    "# day_profile['Charge_Delivered_Opt'] = day_profile['Output_Opt'] * gv.CHARGER_EFF\n",
    "# day_profile['Charge_Delivered_BAU'] = day_profile['Output_BAU'] * gv.CHARGER_EFF\n",
    "# day_profile['Electricity_Cost_Opt'] = day_profile['Output_Opt'] * day_profile['unit_rate_excl_vat']\n",
    "# day_profile['Electricity_Cost_BAU'] = day_profile['Output_BAU'] * day_profile['unit_rate_excl_vat']\n",
    "# for vehicle in vehicles:\n",
    "#     opt_soc = round(gv.BATTERY_CAPACITY - day_journeys.loc[vehicle,'Energy_Required'] + day_profile.loc[(slice(None),vehicle),'Charge_Delivered_Opt'].cumsum(),3)\n",
    "#     day_profile.loc[(slice(None),vehicle),'SOC_Opt'] = opt_soc\n",
    "#     opt_BAU = round(gv.BATTERY_CAPACITY - day_journeys.loc[vehicle,'Energy_Required'] + day_profile.loc[(slice(None),vehicle),'Charge_Delivered_BAU'].cumsum(),3)\n",
    "#     day_profile.loc[(slice(None),vehicle),'SOC_BAU'] = opt_BAU"
   ]
  },
  {
   "cell_type": "code",
   "execution_count": null,
   "metadata": {
    "tags": []
   },
   "outputs": [],
   "source": [
    "day_profile.head()"
   ]
  },
  {
   "cell_type": "code",
   "execution_count": null,
   "metadata": {
    "tags": []
   },
   "outputs": [],
   "source": [
    "# Figures #FIXME set as two columns of figures and add SOC of BAU\n",
    "\n",
    "fig, axs = plt.subplots(4,figsize=(10,10))\n",
    "x = day_profile.unstack().index.strftime('%H:%M')\n",
    "\n",
    "axs[0].plot(x, day_profile['Output_Optimiser'].unstack())\n",
    "axs[1].plot(x, day_profile['Output_BAU'].unstack())\n",
    "\n",
    "axs[3].plot(x, day_profile.loc[(slice(None),0),'unit_rate_excl_vat'], label = 'Electricity price')\n",
    "axs[3].plot(x, day_profile['Output_Optimiser'].groupby(level=0).sum(), label='Output all vehicles')\n",
    "axs[3].plot(x, day_profile['Output_BAU'].groupby(level=0).sum(), label='Output all vehicles BAU')\n",
    "\n",
    "axs[2].plot(x, day_profile['SOC_Opt'].unstack())\n",
    "\n",
    "axs[0].xaxis.set_major_locator(plt.MaxNLocator(13))\n",
    "axs[0].legend(vehicles)\n",
    "axs[1].xaxis.set_major_locator(plt.MaxNLocator(13))\n",
    "axs[1].legend(vehicles)\n",
    "axs[3].xaxis.set_major_locator(plt.MaxNLocator(13))\n",
    "axs[3].legend()\n",
    "axs[2].xaxis.set_major_locator(plt.MaxNLocator(13))\n",
    "axs[2].legend(vehicles)\n",
    "fig.show()\n",
    "fig.savefig('Data/multi_veh.jpg')"
   ]
  },
  {
   "cell_type": "code",
   "execution_count": null,
   "metadata": {},
   "outputs": [],
   "source": [
    "day_profile.head()"
   ]
  },
  {
   "cell_type": "code",
   "execution_count": null,
   "metadata": {},
   "outputs": [],
   "source": [
    "# Summary Table: Energy Use, peak power draw and cost per vehicle (optimiser and benchmark)\n",
    "\n",
    "day_journeys['Energy_Use_Opt'] = day_profile['Output_Opt'].groupby(level=1).sum()\n",
    "day_journeys['Energy_Use_BAU'] = day_profile['Output_BAU'].groupby(level=1).sum()\n",
    "day_journeys['Electricity_Cost_Opt'] = day_profile['Electricity_Cost_Opt'].groupby(level=1).sum()\n",
    "day_journeys['Electricity_Cost_BAU'] = day_profile['Electricity_Cost_BAU'].groupby(level=1).sum()\n",
    "day_journeys['Peak_Output_Opt'] = day_profile['Output_Opt'].groupby(level=1).max()\n",
    "day_journeys['Peak_Output_BAU'] = day_profile['Output_BAU'].groupby(level=1).max()\n",
    "\n",
    "day_journeys.head()\n"
   ]
  },
  {
   "cell_type": "code",
   "execution_count": null,
   "metadata": {},
   "outputs": [],
   "source": [
    "# TODO: Create Summary per time and ovreall\n",
    "\n",
    "site_summary = day_profile.groupby(level=0).sum()\n",
    "site_summary['unit_rate_excl_vat'] = site_summary['unit_rate_excl_vat']/gv.NUM_VEHICLES\n",
    "site_summary.head()"
   ]
  },
  {
   "cell_type": "code",
   "execution_count": null,
   "metadata": {},
   "outputs": [],
   "source": [
    "# TODO: Output Logs\n",
    "\n",
    "# Global variables\n",
    "# Output_df\n",
    "# Plot\n",
    "# Summary tables: day_journeys and site_summary\n",
    "# Notes"
   ]
  }
 ]
}