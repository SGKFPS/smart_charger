{
 "metadata": {
  "language_info": {
   "codemirror_mode": {
    "name": "ipython",
    "version": 3
   },
   "file_extension": ".py",
   "mimetype": "text/x-python",
   "name": "python",
   "nbconvert_exporter": "python",
   "pygments_lexer": "ipython3",
   "version": "3.8.5-final"
  },
  "orig_nbformat": 2,
  "kernelspec": {
   "name": "python_defaultSpec_1600435876186",
   "display_name": "Python 3.8.5 64-bit ('FPS38': conda)"
  }
 },
 "nbformat": 4,
 "nbformat_minor": 2,
 "cells": [
  {
   "cell_type": "code",
   "execution_count": 1,
   "metadata": {
    "tags": []
   },
   "outputs": [],
   "source": [
    "# First approach to Smart Charging Phase 1 using PuLP.\n",
    "# Modeled as a PuLP optimisation blending problem\n",
    "# Started 20 Aug 2020\n",
    "# Author: Sofia Taylor, Flexible Power Systems\n",
    "# test new laptop\n",
    "\n",
    "import numpy as np\n",
    "import pandas as pd\n",
    "import datetime as dt\n",
    "from pulp import *\n",
    "import pickle\n",
    "import global_variables as gv\n",
    "import functions as f\n",
    "import output_functions as of\n",
    "import matplotlib as mpl\n",
    "import matplotlib.pyplot as plt\n",
    "#import glob\n",
    "import timeit\n",
    "#import json \n",
    "import time\n",
    "import random\n",
    "import matplotlib.dates as mdates\n",
    "import matplotlib.font_manager as font_manager\n",
    "import lin_prog_functions as lpf\n"
   ]
  },
  {
   "cell_type": "code",
   "execution_count": 5,
   "metadata": {
    "tags": [
     "outputPrepend"
    ]
   },
   "outputs": [
    {
     "output_type": "stream",
     "name": "stdout",
     "text": "Status: 3 : 1 1 1\n2019-11-10 Status: 3 : 1 1 1\n2019-11-11 Status: 3 : 1 1 1\n2019-11-12 Status: 3 : 1 1 1\n2019-11-13 Status: 3 : 1 1 1\n2019-11-14 Status: 3 : 1 1 1\n2019-11-15 Status: 3 : 1 1 1\n2019-11-16 Status: 3 : 1 1 1\n2019-11-17 Status: 3 : 1 1 1\n2019-11-20 Status: 3 : 1 1 1\n2019-11-21 Status: 3 : 1 1 1\n2019-11-22 Status: 3 : 1 1 1\n2019-11-23 Status: 3 : 1 1 1\n2019-11-24 Status: 3 : 1 1 1\n2019-11-25 Status: 3 : 1 1 1\n2019-11-26 Status: 3 : 1 1 1\n2019-11-27 Status: 3 : 1 1 1\n2019-11-28 Status: 3 : 1 1 1\n2019-11-29 Status: 3 : 1 1 1\n2019-11-30 Status: 3 : 1 1 1\n2019-12-01 Status: 3 : 1 1 1\n2019-12-02 Status: 3 : 1 1 1\n2019-12-03 Status: 3 : 1 1 1\n2019-12-04 Status: 3 : 1 1 1\n2019-12-05 Status: 3 : 1 1 1\n2019-12-06 Status: 3 : 1 1 1\n2019-12-07 Status: 3 : 1 1 1\n2019-12-08 Status: 3 : 1 1 1\n2019-12-09 Status: 3 : 1 1 1\n2019-12-10 Status: 3 : 1 1 1\n2019-12-11 Status: 3 : 1 1 1\n2019-12-12 Status: 3 : 1 1 1\n2019-12-13 Status: 3 : 1 1 1\n2019-12-14 Status: 3 : 1 1 1\n2019-12-15 Status: 3 : 1 1 1\n2019-12-16 Status: 3 : 1 1 1\n2019-12-17 Status: 3 : 1 1 1\n2019-12-18 Status: 3 : 1 1 1\n2019-12-19 Status: 3 : 1 1 1\n2019-12-20 Status: 3 : 1 1 1\n2019-12-21 Status: 3 : 1 1 1\n2019-12-22 Status: 3 : 1 1 1\n2019-12-23 Status: 3 : 1 1 1\nRange: 329 days, 0:00:00 Time: 71956.296875 Runtime: 3928.0\nRun: 47 / Charger: 22 / Capacity: 200\n2019-02-01 Status: 3 : 1 1 1\n2019-02-02 Status: 3 : 1 1 1\n2019-02-03 Status: 3 : 1 1 1\n2019-02-04 Status: 3 : 1 1 1\n2019-02-05 Status: 3 : 1 1 1\n2019-02-06 Status: 3 : 1 1 1\n2019-02-07 Status: 3 : 1 1 1\n2019-02-08 Status: 3 : 1 1 1\n2019-02-09 Status: 3 : 1 1 1\n2019-02-10 Status: 3 : 1 1 1\n2019-02-11 Status: 3 : 1 1 1\n2019-02-12 Status: 3 : 1 1 1\n2019-02-13 Status: 3 : 1 1 1\n2019-02-14 Status: 3 : 1 1 1\n2019-02-15 Status: 3 : 1 1 1\n2019-02-16 Status: 3 : 1 1 1\n2019-02-17 Status: 3 : 1 1 1\n2019-02-18 Status: 3 : 1 1 1\n2019-02-19 Status: 3 : 1 1 1\n2019-02-20 Status: 3 : 1 1 1\n2019-02-21 Status: 3 : 1 1 1\n2019-02-22 Status: 3 : 1 1 1\n2019-02-23 Status: 3 : 1 1 1\n2019-02-24 Status: 3 : 1 1 1\n2019-02-25 Status: 3 : 1 1 1\n2019-02-26 Status: 3 : 1 1 1\n2019-02-27 Status: 3 : 1 1 1\n2019-02-28 Status: 3 : 1 1 1\n2019-03-01 Status: 3 : 1 1 1\n2019-03-03 Status: 3 : 1 1 1\n2019-03-04 Status: 3 : 1 1 1\n2019-03-05 Status: 3 : 1 1 1\n2019-03-06 Status: 3 : 1 1 1\n2019-03-07 Status: 3 : 1 1 1\n2019-03-08 Status: 3 : 1 1 1\n2019-03-09 Status: 3 : 1 1 1\n2019-03-10 Status: 3 : 1 1 1\n2019-03-11 Status: 3 : 1 1 1\n2019-03-12 Status: 3 : 1 1 1\n2019-03-13 Status: 3 : 1 1 1\n2019-03-14 Status: 3 : 1 1 1\n2019-03-15 Status: 3 : 1 1 1\n2019-03-16 Status: 3 : 1 1 1\n2019-03-17 Status: 3 : 1 1 1\n2019-03-18 Status: 3 : 1 1 1\n2019-03-19 Status: 3 : 1 1 1\n2019-03-20 Status: 3 : 1 1 1\n2019-03-21 Status: 3 : 1 1 1\n2019-03-22 Status: 3 : 1 1 1\n2019-03-23 Status: 3 : 1 1 1\n2019-03-24 Status: 3 : 1 1 1\n2019-03-25 Status: 3 : 1 1 1\n2019-03-26 Status: 3 : 1 1 1\n2019-03-27 Status: 3 : 1 1 1\n2019-03-28 Status: 3 : 1 1 1\n2019-03-29 Status: 3 : 1 1 1\n2019-03-30 Status: 3 : 1 1 1\n2019-03-31 Status: 3 : 1 1 1\n2019-04-01 Status: 3 : 1 1 1\n2019-04-02 Status: 3 : 1 1 1\n2019-04-03 Status: 3 : 1 1 1\n2019-04-04 Status: 3 : 1 1 1\n2019-04-05 Status: 3 : 1 1 1\n2019-04-06 Status: 3 : 1 1 1\n2019-04-07 Status: 3 : 1 1 1\n2019-04-08 Status: 3 : 1 1 1\n2019-04-09 Status: 3 : 1 1 1\n2019-04-10 Status: 3 : 1 1 1\n2019-04-11 Status: 3 : 1 1 1\n2019-04-12 Status: 3 : 1 1 1\n2019-04-13 Status: 3 : 1 1 1\n2019-04-14 Status: 3 : 1 1 1\n2019-04-15 Status: 3 : 1 1 1\n2019-04-16 Status: 3 : 1 1 1\n2019-04-17 Status: 3 : 1 1 1\n2019-04-18 Status: 3 : 1 1 1\n2019-04-19 Status: 3 : 1 1 1\n2019-04-20 Status: 3 : 1 1 1\n2019-04-21 Status: 3 : 1 1 1\n2019-04-22 Status: 3 : 1 1 1\n2019-04-23 Status: 3 : 1 1 1\n2019-04-24 Status: 3 : 1 1 1\n2019-04-25 Status: 3 : 1 1 1\n2019-04-26 Status: 3 : 1 1 1\n2019-04-27 Status: 3 : 1 1 1\n2019-04-28 Status: 3 : 1 1 1\n2019-04-29 Status: 3 : 1 1 1\n2019-04-30 Status: 3 : 1 1 1\n2019-05-01 Status: 3 : 1 1 1\n2019-05-02 Status: 3 : 1 1 1\n2019-05-03 Status: 3 : 1 1 1\n2019-05-04 Status: 3 : 1 1 1\n2019-05-05 Status: 3 : 1 1 1\n2019-05-06 Status: 3 : 1 1 1\n2019-05-07 Status: 3 : 1 1 1\n2019-05-08 Status: 3 : 1 1 1\n2019-05-09 Status: 3 : 1 1 1\n2019-05-10 Status: 3 : 1 1 1\n2019-05-11 Status: 3 : 1 1 1\n2019-05-12 Status: 3 : 1 1 1\n2019-05-13 Status: 3 : 1 1 1\n2019-05-14 Status: 3 : 1 1 1\n2019-05-15 Status: 3 : 1 1 1\n2019-05-16 Status: 3 : 1 1 1\n2019-05-17 Status: 3 : 1 1 1\n2019-05-18 Status: 3 : 1 1 1\n2019-05-19 Status: 3 : 1 1 1\n2019-05-20 Status: 3 : 1 1 1\n2019-05-21 Status: 3 : 1 1 1\n2019-05-22 Status: 3 : 1 1 1\n2019-05-23 Status: 3 : 1 1 1\n2019-05-24 Status: 3 : 1 1 1\n2019-05-25 Status: 3 : 1 1 1\n2019-05-26 Status: 3 : 1 1 1\n2019-05-27 Status: 3 : 1 1 1\n2019-05-28 Status: 3 : 1 1 1\n2019-05-29 Status: 3 : 1 1 1\n2019-05-30 Status: 3 : 1 1 1\n2019-05-31 Status: 3 : 1 1 1\n2019-06-01 Status: 3 : 1 1 1\n2019-06-02 Status: 3 : 1 1 1\n2019-06-03 Status: 3 : 1 1 1\n2019-06-04 Status: 3 : 1 1 1\n2019-06-05 Status: 3 : 1 1 1\n2019-06-06 Status: 3 : 1 1 1\n2019-06-07 Status: 3 : 1 1 1\n2019-06-08 Status: 3 : 1 1 1\n2019-06-09 Status: 3 : 1 1 1\n2019-06-10 Status: 3 : 1 1 1\n2019-06-11 Status: 3 : 1 1 1\n2019-06-12 Status: 3 : 1 1 1\n2019-06-13 Status: 3 : 1 1 1\n2019-06-14 Status: 3 : 1 1 1\n2019-06-15 Status: 3 : 1 1 1\n2019-06-16 Status: 3 : 1 1 1\n2019-06-17 Status: 3 : 1 1 1\n2019-06-18 Status: 3 : 1 1 1\n2019-06-19 Status: 3 : 1 1 1\n2019-06-20 Status: 3 : 1 1 1\n2019-06-21 Status: 3 : 1 1 1\n2019-06-22 Status: 3 : 1 1 1\n2019-06-23 Status: 3 : 1 1 1\n2019-06-24 Status: 3 : 1 1 1\n2019-06-25 Status: 3 : 1 1 1\n2019-06-26 Status: 3 : 1 1 1\n2019-06-27 Status: 3 : 1 1 1\n2019-06-28 Status: 3 : 1 1 1\n2019-06-29 Status: 3 : 1 1 1\n2019-06-30 Status: 3 : 1 1 1\n2019-07-01 Status: 3 : 1 1 1\n2019-07-02 Status: 3 : 1 1 1\n2019-07-03 Status: 3 : 1 1 1\n2019-07-04 Status: 3 : 1 1 1\n2019-07-05 Status: 3 : 1 1 1\n2019-07-06 Status: 3 : 1 1 1\n2019-07-07 Status: 3 : 1 1 1\n2019-07-08 Status: 3 : 1 1 1\n2019-07-09 Status: 3 : 1 1 1\n2019-07-10 Status: 3 : 1 1 1\n2019-07-11 Status: 3 : 1 1 1\n2019-07-12 Status: 3 : 1 1 1\n2019-07-13 Status: 3 : 1 1 1\n2019-07-14 Status: 3 : 1 1 1\n2019-07-15 Status: 3 : 1 1 1\n2019-07-16 Status: 3 : 1 1 1\n2019-07-17 Status: 3 : 1 1 1\n2019-07-18 Status: 3 : 1 1 1\n2019-07-19 Status: 3 : 1 1 1\n2019-07-20 Status: 3 : 1 1 1\n2019-07-21 Status: 3 : 1 1 1\n2019-07-22 Status: 3 : 1 1 1\n2019-07-23 Status: 3 : 1 1 1\n2019-07-24 Status: 3 : 1 1 1\n2019-07-25 Status: 3 : 1 1 1\n2019-07-26 Status: 3 : 1 1 1\n2019-07-27 Status: 3 : 1 1 1\n2019-07-30 Status: 3 : 1 1 1\n2019-07-31 Status: 3 : 1 1 1\n2019-08-01 Status: 3 : 1 1 1\n2019-08-02 Status: 3 : 1 1 1\n2019-08-03 Status: 3 : 1 1 1\n2019-08-04 Status: 3 : 1 1 1\n2019-08-05 Status: 3 : 1 1 1\n2019-08-06 Status: 3 : 1 1 1\n2019-08-07 Status: 3 : 1 1 1\n2019-08-08 Status: 3 : 1 1 1\n2019-08-09 Status: 3 : 1 1 1\n2019-08-10 Status: 3 : 1 1 1\n2019-08-11 Status: 3 : 1 1 1\n2019-08-12 Status: 3 : 1 1 1\n2019-08-13 Status: 3 : 1 1 1\n2019-08-14 Status: 3 : 1 1 1\n2019-08-15 Status: 3 : 1 1 1\n2019-08-16 Status: 3 : 1 1 1\n2019-08-17 Status: 3 : 1 1 1\n2019-08-18 Status: 3 : 1 1 1\n2019-08-19 Status: 3 : 1 1 1\n2019-08-20 Status: 3 : 1 1 1\n2019-08-21 Status: 3 : 1 1 1\n2019-08-22 Status: 3 : 1 1 1\n2019-08-23 Status: 3 : 1 1 1\n2019-08-24 Status: 3 : 1 1 1\n2019-08-25 Status: 3 : 1 1 1\n2019-08-26 Status: 3 : 1 1 1\n2019-08-27 Status: 3 : 1 1 1\n2019-08-28 Status: 3 : 1 1 1\n2019-08-29 Status: 3 : 1 1 1\n2019-08-30 Status: 3 : 1 1 1\n2019-08-31 Status: 3 : 1 1 1\n2019-09-01 Status: 3 : 1 1 1\n2019-09-02 Status: 3 : 1 1 1\n2019-09-03 Status: 3 : 1 1 1\n2019-09-04 Status: 3 : 1 1 1\n2019-09-05 Status: 3 : 1 1 1\n2019-09-06 Status: 3 : 1 1 1\n2019-09-07 Status: 3 : 1 1 1\n2019-09-08 Status: 3 : 1 1 1\n2019-09-09 Status: 3 : 1 1 1\n2019-09-10 Status: 3 : 1 1 1\n2019-09-11 Status: 3 : 1 1 1\n2019-09-12 Status: 3 : 1 1 1\n2019-09-13 Status: 3 : 1 1 1\n2019-09-14 Status: 3 : 1 1 1\n2019-09-15 Status: 3 : 1 1 1\n2019-09-16 Status: 3 : 1 1 1\n2019-09-17 Status: 3 : 1 1 1\n2019-09-18 Status: 3 : 1 1 1\n2019-09-19 Status: 3 : 1 1 1\n2019-09-20 Status: 3 : 1 1 1\n2019-09-21 Status: 3 : 1 1 1\n2019-09-22 Status: 3 : 1 1 1\n2019-09-23 Status: 3 : 1 1 1\n2019-09-24 Status: 3 : 1 1 1\n2019-09-25 Status: 3 : 1 1 1\n2019-09-26 Status: 3 : 1 1 1\n2019-09-27 Status: 3 : 1 1 1\n2019-09-28 Status: 3 : 1 1 1\n2019-09-29 Status: 3 : 1 1 1\n2019-09-30 Status: 3 : 1 1 1\n2019-10-01 Status: 3 : 1 1 1\n2019-10-02 Status: 3 : 1 1 1\n2019-10-03 Status: 3 : 1 1 1\n2019-10-04 Status: 3 : 1 1 1\n2019-10-05 Status: 3 : 1 1 1\n2019-10-06 Status: 3 : 1 1 1\n2019-10-07 Status: 3 : 1 1 1\n2019-10-08 Status: 3 : 1 1 1\n2019-10-09 Status: 3 : 1 1 1\n2019-10-10 Status: 3 : 1 1 1\n2019-10-11 Status: 3 : 1 1 1\n2019-10-12 Status: 3 : 1 1 1\n2019-10-13 Status: 3 : 1 1 1\n2019-10-14 Status: 3 : 1 1 1\n2019-10-15 Status: 3 : 1 1 1\n2019-10-16 Status: 3 : 1 1 1\n2019-10-17 Status: 3 : 1 1 1\n2019-10-18 Status: 3 : 1 1 1\n2019-10-19 Status: 3 : 1 1 1\n2019-10-21 Status: 3 : 1 1 1\n2019-10-22 Status: 3 : 1 1 1\n2019-10-23 Status: 3 : 1 1 1\n2019-10-24 Status: 3 : 1 1 1\n2019-10-25 Status: 3 : 1 1 1\n2019-10-26 Status: 3 : 1 1 1\n2019-10-27 Status: 3 : 1 1 1\n2019-10-28 Status: 3 : 1 1 1\n2019-10-30 Status: 3 : 1 1 1\n2019-10-31 Status: 3 : 1 1 1\n2019-11-01 Status: 3 : 1 1 1\n2019-11-02 Status: 3 : 1 1 1\n2019-11-03 Status: 3 : 1 1 1\n2019-11-04 Status: 3 : 1 1 1\n2019-11-05 Status: 3 : 1 1 1\n2019-11-06 Status: 3 : 1 1 1\n2019-11-07 Status: 3 : 1 1 1\n2019-11-08 Status: 3 : 1 1 1\n2019-11-09 Status: 3 : 1 1 1\n2019-11-10 Status: 3 : 1 1 1\n2019-11-11 Status: 3 : 1 1 1\n2019-11-12 Status: 3 : 1 1 1\n2019-11-13 Status: 3 : 1 1 1\n2019-11-14 Status: 3 : 1 1 1\n2019-11-15 Status: 3 : 1 1 1\n2019-11-16 Status: 3 : 1 1 1\n2019-11-17 Status: 3 : 1 1 1\n2019-11-20 Status: 3 : 1 1 1\n2019-11-21 Status: 3 : 1 1 1\n2019-11-22 Status: 3 : 1 1 1\n2019-11-23 Status: 3 : 1 1 1\n2019-11-24 Status: 3 : 1 1 1\n2019-11-25 Status: 3 : 1 1 1\n2019-11-26 Status: 3 : 1 1 1\n2019-11-27 Status: 3 : 1 1 1\n2019-11-28 Status: 3 : 1 1 1\n2019-11-29 Status: 3 : 1 1 1\n2019-11-30 Status: 3 : 1 1 1\n2019-12-01 Status: 3 : 1 1 1\n2019-12-02 Status: 3 : 1 1 1\n2019-12-03 Status: 3 : 1 1 1\n2019-12-04 Status: 3 : 1 1 1\n2019-12-05 Status: 3 : 1 1 1\n2019-12-06 Status: 3 : 1 1 1\n2019-12-07 Status: 3 : 1 1 1\n2019-12-08 Status: 3 : 1 1 1\n2019-12-09 Status: 3 : 1 1 1\n2019-12-10 Status: 3 : 1 1 1\n2019-12-11 Status: 3 : 1 1 1\n2019-12-12 Status: 3 : 1 1 1\n2019-12-13 Status: 3 : 1 1 1\n2019-12-14 Status: 3 : 1 1 1\n2019-12-15 Status: 3 : 1 1 1\n2019-12-16 Status: 3 : 1 1 1\n2019-12-17 Status: 3 : 1 1 1\n2019-12-18 Status: 3 : 1 1 1\n2019-12-19 Status: 3 : 1 1 1\n2019-12-20 Status: 3 : 1 1 1\n2019-12-21 Status: 3 : 1 1 1\n2019-12-22 Status: 3 : 1 1 1\n2019-12-23 Status: 3 : 1 1 1\nRange: 329 days, 0:00:00 Time: 76510.734375 Runtime: 4554.4375\nRun: 48 / Charger: 22 / Capacity: 250\n2019-02-01 Status: 3 : 1 1 1\n2019-02-02 Status: 3 : 1 1 1\n2019-02-03 Status: 3 : 1 1 1\n2019-02-04 Status: 3 : 1 1 1\n2019-02-05 Status: 3 : 1 1 1\n2019-02-06 Status: 3 : 1 1 1\n2019-02-07 Status: 3 : 1 1 1\n2019-02-08 Status: 3 : 1 1 1\n2019-02-09 Status: 3 : 1 1 1\n2019-02-10 Status: 3 : 1 1 1\n2019-02-11 Status: 3 : 1 1 1\n2019-02-12 Status: 3 : 1 1 1\n2019-02-13 Status: 3 : 1 1 1\n2019-02-14 Status: 3 : 1 1 1\n2019-02-15 Status: 3 : 1 1 1\n2019-02-16 Status: 3 : 1 1 1\n2019-02-17 Status: 3 : 1 1 1\n2019-02-18 Status: 3 : 1 1 1\n2019-02-19 Status: 3 : 1 1 1\n2019-02-20 Status: 3 : 1 1 1\n2019-02-21 Status: 3 : 1 1 1\n2019-02-22 Status: 3 : 1 1 1\n2019-02-23 Status: 3 : 1 1 1\n2019-02-24 Status: 3 : 1 1 1\n2019-02-25 Status: 3 : 1 1 1\n2019-02-26 Status: 3 : 1 1 1\n2019-02-27 Status: 3 : 1 1 1\n2019-02-28 Status: 3 : 1 1 1\n2019-03-01 Status: 3 : 1 1 1\n2019-03-03 Status: 3 : 1 1 1\n2019-03-04 Status: 3 : 1 1 1\n2019-03-05 Status: 3 : 1 1 1\n2019-03-06 Status: 3 : 1 1 1\n2019-03-07 Status: 3 : 1 1 1\n2019-03-08 Status: 3 : 1 1 1\n2019-03-09 Status: 3 : 1 1 1\n2019-03-10 Status: 3 : 1 1 1\n2019-03-11 Status: 3 : 1 1 1\n2019-03-12 Status: 3 : 1 1 1\n2019-03-13 Status: 3 : 1 1 1\n2019-03-14 Status: 3 : 1 1 1\n2019-03-15 Status: 3 : 1 1 1\n2019-03-16 Status: 3 : 1 1 1\n2019-03-17 Status: 3 : 1 1 1\n2019-03-18 Status: 3 : 1 1 1\n2019-03-19 Status: 3 : 1 1 1\n2019-03-20 Status: 3 : 1 1 1\n2019-03-21 Status: 3 : 1 1 1\n2019-03-22 Status: 3 : 1 1 1\n2019-03-23 Status: 3 : 1 1 1\n2019-03-24 Status: 3 : 1 1 1\n2019-03-25 Status: 3 : 1 1 1\n2019-03-26 Status: 3 : 1 1 1\n2019-03-27 Status: 3 : 1 1 1\n2019-03-28 Status: 3 : 1 1 1\n2019-03-29 Status: 3 : 1 1 1\n2019-03-30 Status: 3 : 1 1 1\n2019-03-31 Status: 3 : 1 1 1\n2019-04-01 Status: 3 : 1 1 1\n2019-04-02 Status: 3 : 1 1 1\n2019-04-03 Status: 3 : 1 1 1\n2019-04-04 Status: 3 : 1 1 1\n2019-04-05 Status: 3 : 1 1 1\n2019-04-06 Status: 3 : 1 1 1\n2019-04-07 Status: 3 : 1 1 1\n2019-04-08 Status: 3 : 1 1 1\n2019-04-09 Status: 3 : 1 1 1\n2019-04-10 Status: 3 : 1 1 1\n2019-04-11 Status: 3 : 1 1 1\n2019-04-12 Status: 3 : 1 1 1\n2019-04-13 Status: 3 : 1 1 1\n2019-04-14 Status: 3 : 1 1 1\n2019-04-15 Status: 3 : 1 1 1\n2019-04-16 Status: 3 : 1 1 1\n2019-04-17 Status: 3 : 1 1 1\n2019-04-18 Status: 3 : 1 1 1\n2019-04-19 Status: 3 : 1 1 1\n2019-04-20 Status: 3 : 1 1 1\n2019-04-21 Status: 3 : 1 1 1\n2019-04-22 Status: 3 : 1 1 1\n2019-04-23 Status: 3 : 1 1 1\n2019-04-24 Status: 3 : 1 1 1\n2019-04-25 Status: 3 : 1 1 1\n2019-04-26 Status: 3 : 1 1 1\n2019-04-27 Status: 3 : 1 1 1\n2019-04-28 Status: 3 : 1 1 1\n2019-04-29 Status: 3 : 1 1 1\n2019-04-30 Status: 3 : 1 1 1\n2019-05-01 Status: 3 : 1 1 1\n2019-05-02 Status: 3 : 1 1 1\n2019-05-03 Status: 3 : 1 1 1\n2019-05-04 Status: 3 : 1 1 1\n2019-05-05 Status: 3 : 1 1 1\n2019-05-06 Status: 3 : 1 1 1\n2019-05-07 Status: 3 : 1 1 1\n2019-05-08 Status: 3 : 1 1 1\n2019-05-09 Status: 3 : 1 1 1\n2019-05-10 Status: 3 : 1 1 1\n2019-05-11 Status: 3 : 1 1 1\n2019-05-12 Status: 3 : 1 1 1\n2019-05-13 Status: 3 : 1 1 1\n2019-05-14 Status: 3 : 1 1 1\n2019-05-15 Status: 3 : 1 1 1\n2019-05-16 Status: 3 : 1 1 1\n2019-05-17 Status: 3 : 1 1 1\n2019-05-18 Status: 3 : 1 1 1\n2019-05-19 Status: 3 : 1 1 1\n2019-05-20 Status: 3 : 1 1 1\n2019-05-21 Status: 3 : 1 1 1\n2019-05-22 Status: 3 : 1 1 1\n2019-05-23 Status: 3 : 1 1 1\n2019-05-24 Status: 3 : 1 1 1\n2019-05-25 Status: 3 : 1 1 1\n2019-05-26 Status: 3 : 1 1 1\n2019-05-27 Status: 3 : 1 1 1\n2019-05-28 Status: 3 : 1 1 1\n2019-05-29 Status: 3 : 1 1 1\n2019-05-30 Status: 3 : 1 1 1\n2019-05-31 Status: 3 : 1 1 1\n2019-06-01 Status: 3 : 1 1 1\n2019-06-02 Status: 3 : 1 1 1\n2019-06-03 Status: 3 : 1 1 1\n2019-06-04 Status: 3 : 1 1 1\n2019-06-05 Status: 3 : 1 1 1\n2019-06-06 Status: 3 : 1 1 1\n2019-06-07 Status: 3 : 1 1 1\n2019-06-08 Status: 3 : 1 1 1\n2019-06-09 Status: 3 : 1 1 1\n2019-06-10 Status: 3 : 1 1 1\n2019-06-11 Status: 3 : 1 1 1\n2019-06-12 Status: 3 : 1 1 1\n2019-06-13 Status: 3 : 1 1 1\n2019-06-14 Status: 3 : 1 1 1\n2019-06-15 Status: 3 : 1 1 1\n2019-06-16 Status: 3 : 1 1 1\n2019-06-17 Status: 3 : 1 1 1\n2019-06-18 Status: 3 : 1 1 1\n2019-06-19 Status: 3 : 1 1 1\n2019-06-20 Status: 3 : 1 1 1\n2019-06-21 Status: 3 : 1 1 1\n2019-06-22 Status: 3 : 1 1 1\n2019-06-23 Status: 3 : 1 1 1\n2019-06-24 Status: 3 : 1 1 1\n2019-06-25 Status: 3 : 1 1 1\n2019-06-26 Status: 3 : 1 1 1\n2019-06-27 Status: 3 : 1 1 1\n2019-06-28 Status: 3 : 1 1 1\n2019-06-29 Status: 3 : 1 1 1\n2019-06-30 Status: 3 : 1 1 1\n2019-07-01 Status: 3 : 1 1 1\n2019-07-02 Status: 3 : 1 1 1\n2019-07-03 Status: 3 : 1 1 1\n2019-07-04 Status: 3 : 1 1 1\n2019-07-05 Status: 3 : 1 1 1\n2019-07-06 Status: 3 : 1 1 1\n2019-07-07 Status: 3 : 1 1 1\n2019-07-08 Status: 3 : 1 1 1\n2019-07-09 Status: 3 : 1 1 1\n2019-07-10 Status: 3 : 1 1 1\n2019-07-11 Status: 3 : 1 1 1\n2019-07-12 Status: 3 : 1 1 1\n2019-07-13 Status: 3 : 1 1 1\n2019-07-14 Status: 3 : 1 1 1\n2019-07-15 Status: 3 : 1 1 1\n2019-07-16 Status: 3 : 1 1 1\n2019-07-17 Status: 3 : 1 1 1\n2019-07-18 Status: 3 : 1 1 1\n2019-07-19 Status: 3 : 1 1 1\n2019-07-20 Status: 3 : 1 1 1\n2019-07-21 Status: 3 : 1 1 1\n2019-07-22 Status: 3 : 1 1 1\n2019-07-23 Status: 3 : 1 1 1\n2019-07-24 Status: 3 : 1 1 1\n2019-07-25 Status: 3 : 1 1 1\n2019-07-26 Status: 3 : 1 1 1\n2019-07-27 Status: 3 : 1 1 1\n2019-07-30 Status: 3 : 1 1 1\n2019-07-31 Status: 3 : 1 1 1\n2019-08-01 Status: 3 : 1 1 1\n2019-08-02 Status: 3 : 1 1 1\n2019-08-03 Status: 3 : 1 1 1\n2019-08-04 Status: 3 : 1 1 1\n2019-08-05 Status: 3 : 1 1 1\n2019-08-06 Status: 3 : 1 1 1\n2019-08-07 Status: 3 : 1 1 1\n2019-08-08 Status: 3 : 1 1 1\n2019-08-09 Status: 3 : 1 1 1\n2019-08-10 Status: 3 : 1 1 1\n2019-08-11 Status: 3 : 1 1 1\n2019-08-12 Status: 3 : 1 1 1\n2019-08-13 Status: 3 : 1 1 1\n2019-08-14 Status: 3 : 1 1 1\n2019-08-15 Status: 3 : 1 1 1\n2019-08-16 Status: 3 : 1 1 1\n2019-08-17 Status: 3 : 1 1 1\n2019-08-18 Status: 3 : 1 1 1\n2019-08-19 Status: 3 : 1 1 1\n2019-08-20 Status: 3 : 1 1 1\n2019-08-21 Status: 3 : 1 1 1\n2019-08-22 Status: 3 : 1 1 1\n2019-08-23 Status: 3 : 1 1 1\n2019-08-24 Status: 3 : 1 1 1\n2019-08-25 Status: 3 : 1 1 1\n2019-08-26 Status: 3 : 1 1 1\n2019-08-27 Status: 3 : 1 1 1\n2019-08-28 Status: 3 : 1 1 1\n2019-08-29 Status: 3 : 1 1 1\n2019-08-30 Status: 3 : 1 1 1\n2019-08-31 Status: 3 : 1 1 1\n2019-09-01 Status: 3 : 1 1 1\n2019-09-02 Status: 3 : 1 1 1\n2019-09-03 Status: 3 : 1 1 1\n2019-09-04 Status: 3 : 1 1 1\n2019-09-05 Status: 3 : 1 1 1\n2019-09-06 Status: 3 : 1 1 1\n2019-09-07 Status: 3 : 1 1 1\n2019-09-08 Status: 3 : 1 1 1\n2019-09-09 Status: 3 : 1 1 1\n2019-09-10 Status: 3 : 1 1 1\n2019-09-11 Status: 3 : 1 1 1\n2019-09-12 Status: 3 : 1 1 1\n2019-09-13 Status: 3 : 1 1 1\n2019-09-14 Status: 3 : 1 1 1\n2019-09-15 Status: 3 : 1 1 1\n2019-09-16 Status: 3 : 1 1 1\n2019-09-17 Status: 3 : 1 1 1\n2019-09-18 Status: 3 : 1 1 1\n2019-09-19 Status: 3 : 1 1 1\n2019-09-20 Status: 3 : 1 1 1\n2019-09-21 Status: 3 : 1 1 1\n2019-09-22 Status: 3 : 1 1 1\n2019-09-23 Status: 3 : 1 1 1\n2019-09-24 Status: 3 : 1 1 1\n2019-09-25 Status: 3 : 1 1 1\n2019-09-26 Status: 3 : 1 1 1\n2019-09-27 Status: 3 : 1 1 1\n2019-09-28 Status: 3 : 1 1 1\n2019-09-29 Status: 3 : 1 1 1\n2019-09-30 Status: 3 : 1 1 1\n2019-10-01 Status: 3 : 1 1 1\n2019-10-02 Status: 3 : 1 1 1\n2019-10-03 Status: 3 : 1 1 1\n2019-10-04 Status: 3 : 1 1 1\n2019-10-05 Status: 3 : 1 1 1\n2019-10-06 Status: 3 : 1 1 1\n2019-10-07 Status: 3 : 1 1 1\n2019-10-08 Status: 3 : 1 1 1\n2019-10-09 Status: 3 : 1 1 1\n2019-10-10 Status: 3 : 1 1 1\n2019-10-11 Status: 3 : 1 1 1\n2019-10-12 Status: 3 : 1 1 1\n2019-10-13 Status: 3 : 1 1 1\n2019-10-14 Status: 3 : 1 1 1\n2019-10-15 Status: 3 : 1 1 1\n2019-10-16 Status: 3 : 1 1 1\n2019-10-17 Status: 3 : 1 1 1\n2019-10-18 Status: 3 : 1 1 1\n2019-10-19 Status: 3 : 1 1 1\n2019-10-21 Status: 3 : 1 1 1\n2019-10-22 Status: 3 : 1 1 1\n2019-10-23 Status: 3 : 1 1 1\n2019-10-24 Status: 3 : 1 1 1\n2019-10-25 Status: 3 : 1 1 1\n2019-10-26 Status: 3 : 1 1 1\n2019-10-27 Status: 3 : 1 1 1\n2019-10-28 Status: 3 : 1 1 1\n2019-10-30 Status: 3 : 1 1 1\n2019-10-31 Status: 3 : 1 1 1\n2019-11-01 Status: 3 : 1 1 1\n2019-11-02 Status: 3 : 1 1 1\n2019-11-03 Status: 3 : 1 1 1\n2019-11-04 Status: 3 : 1 1 1\n2019-11-05 Status: 3 : 1 1 1\n2019-11-06 Status: 3 : 1 1 1\n2019-11-07 Status: 3 : 1 1 1\n2019-11-08 Status: 3 : 1 1 1\n2019-11-09 Status: 3 : 1 1 1\n2019-11-10 Status: 3 : 1 1 1\n2019-11-11 Status: 3 : 1 1 1\n2019-11-12 Status: 3 : 1 1 1\n2019-11-13 Status: 3 : 1 1 1\n2019-11-14 Status: 3 : 1 1 1\n2019-11-15 Status: 3 : 1 1 1\n2019-11-16 Status: 3 : 1 1 1\n2019-11-17 Status: 3 : 1 1 1\n2019-11-20 Status: 3 : 1 1 1\n2019-11-21 Status: 3 : 1 1 1\n2019-11-22 Status: 3 : 1 1 1\n2019-11-23 Status: 3 : 1 1 1\n2019-11-24 Status: 3 : 1 1 1\n2019-11-25 Status: 3 : 1 1 1\n2019-11-26 Status: 3 : 1 1 1\n2019-11-27 Status: 3 : 1 1 1\n2019-11-28 Status: 3 : 1 1 1\n2019-11-29 Status: 3 : 1 1 1\n2019-11-30 Status: 3 : 1 1 1\n2019-12-01 Status: 3 : 1 1 1\n2019-12-02 Status: 3 : 1 1 1\n2019-12-03 Status: 3 : 1 1 1\n2019-12-04 Status: 3 : 1 1 1\n2019-12-05 Status: 3 : 1 1 1\n2019-12-06 Status: 3 : 1 1 1\n2019-12-07 Status: 3 : 1 1 1\n2019-12-08 Status: 3 : 1 1 1\n2019-12-09 Status: 3 : 1 1 1\n2019-12-10 Status: 3 : 1 1 1\n2019-12-11 Status: 3 : 1 1 1\n2019-12-12 Status: 3 : 1 1 1\n2019-12-13 Status: 3 : 1 1 1\n2019-12-14 Status: 3 : 1 1 1\n2019-12-15 Status: 3 : 1 1 1\n2019-12-16 Status: 3 : 1 1 1\n2019-12-17 Status: 3 : 1 1 1\n2019-12-18 Status: 3 : 1 1 1\n2019-12-19 Status: 3 : 1 1 1\n2019-12-20 Status: 3 : 1 1 1\n2019-12-21 Status: 3 : 1 1 1\n2019-12-22 Status: 3 : 1 1 1\n2019-12-23 Status: 3 : 1 1 1\nRange: 329 days, 0:00:00 Time: 80685.0625 Runtime: 4174.328125\n"
    }
   ],
   "source": [
    "# Variables for grid search\n",
    "run = 44\n",
    "charger_power = [22]#45, 7, 11]#, 22] # kW\n",
    "caps = [50,100,150,200,250]\n",
    "grid_file_path = 'Outputs/Logs/grid_variables{}.csv'.format(run)\n",
    "journeys = pickle.load(open('Outputs/journeys_range','rb'))\n",
    "empty_profile = pickle.load(open('Outputs/empty_profile','rb'))\n",
    "\n",
    "for charger in charger_power:\n",
    "    for capacity in caps:\n",
    "        script_strt = time.process_time()\n",
    "        print('Run:',run,'/ Charger:',charger,'/ Capacity:',capacity)\n",
    "        site_capacity = {\n",
    "            'opt': capacity,  # kWh (in a half-hour period so eq. 100 kW)\n",
    "            'BAU': 10000,\n",
    "            'BAU2': capacity\n",
    "        }\n",
    "        notes = 'Grid test' + str(charger) + ' / ' + str(capacity) +'\\n'\n",
    "        os.makedirs('Outputs/Logs/run{}'.format(run))\n",
    "        grid_file = open(grid_file_path,'a')\n",
    "        grid_file.write('\\n' + str(run)+'\\n'+str(charger) + '\\n' + str(capacity) +'\\n')\n",
    "        profile_out, dates, bad_days, lpprob = lpf.optimise_range(\n",
    "            journeys, \n",
    "            empty_profile, \n",
    "            charger, \n",
    "            site_capacity)\n",
    "\n",
    "        range_profile, range_journeys, veh_profile, site_profile, days_summary, global_summary = of.summary_outputs(\n",
    "        profile_out, \n",
    "            journeys, \n",
    "            dates)\n",
    "\n",
    "        # print(global_summary)\n",
    "\n",
    "        ################ OUTPUTS ####################\n",
    "        # Make and save daily figures\n",
    "        os.makedirs('Outputs/Logs/run{}/daily'.format(run))\n",
    "        for date in dates:\n",
    "            day = dt.datetime.combine(date, dt.datetime.min.time())\n",
    "            day_profile = of.create_daily_summary(site_profile, day)\n",
    "            fig_summary = of.summary_plot(day_profile)\n",
    "            fig_summary.savefig(\n",
    "                'Outputs/Logs/run{}/daily/fig{}.svg'.format(run,date))\n",
    "            plt.close(fig_summary)\n",
    "        # print('All good to 1')\n",
    "\n",
    "        range_fig = of.daily_summary_plot(days_summary.fillna(0))\n",
    "        range_fig.savefig(\n",
    "            'Outputs/Logs/run{}/fig_range{}.svg'.format(run,run),\n",
    "            bbox_inches = \"tight\")\n",
    "        plt.close(range_fig)\n",
    "        # print('All good with figs')\n",
    "\n",
    "        \n",
    "        # Create a list of settings\n",
    "        with open('global_variables.py','r') as f:\n",
    "            global_variables = f.read()\n",
    "\n",
    "        with open('Outputs/Logs/run{}/variables{}.csv'.format(run,run),'a') as fi:\n",
    "            fi.write(global_summary.to_string())\n",
    "            fi.write('\\nglobal_variabes.py:\\n')\n",
    "            fi.write(global_variables)\n",
    "            fi.write(notes)\n",
    "            fi.write(bad_days)\n",
    "\n",
    "        # Write problem to an .lp file\n",
    "        lpprob['opt'].writeLP(\"Outputs/Logs/run{}/multi_vehicle.lp\".format(run))\n",
    "\n",
    "        # Save dataframes\n",
    "        pickle.dump(range_profile,open('Outputs/Logs/run{}/route_profiles{}'.format(run,run),'wb'))\n",
    "        pickle.dump(veh_profile,open('Outputs/Logs/run{}/veh_profiles{}'.format(run,run),'wb'))\n",
    "        pickle.dump(range_journeys,open('Outputs/Logs/run{}/journeys{}'.format(run,run),'wb'))\n",
    "        pickle.dump(site_profile,open('Outputs/Logs/run{}/site_summary{}'.format(run,run),'wb'))\n",
    "        pickle.dump(days_summary,open('Outputs/Logs/run{}/days_summary'.format(run),'wb'))\n",
    "        grid_file.write(global_summary.to_string())\n",
    "        grid_file.write('\\n'+bad_days)\n",
    "        runtime = time.process_time() - script_strt\n",
    "        grid_file.write('\\n'+str(runtime))\n",
    "        print('Range:', gv.TIME_RANGE, 'Time:',time.process_time(),'Runtime:',runtime)\n",
    "        run += 1\n",
    "        grid_file.close()\n"
   ]
  },
  {
   "cell_type": "code",
   "execution_count": null,
   "metadata": {},
   "outputs": [],
   "source": []
  }
 ]
}