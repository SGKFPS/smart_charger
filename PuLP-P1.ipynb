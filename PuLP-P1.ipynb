{
 "metadata": {
  "language_info": {
   "codemirror_mode": {
    "name": "ipython",
    "version": 3
   },
   "file_extension": ".py",
   "mimetype": "text/x-python",
   "name": "python",
   "nbconvert_exporter": "python",
   "pygments_lexer": "ipython3",
   "version": "3.8.5-final"
  },
  "orig_nbformat": 2,
  "kernelspec": {
   "name": "python_defaultSpec_1600713442904",
   "display_name": "Python 3.8.5 64-bit ('FPS38': conda)"
  }
 },
 "nbformat": 4,
 "nbformat_minor": 2,
 "cells": [
  {
   "cell_type": "code",
   "execution_count": 1,
   "metadata": {
    "tags": []
   },
   "outputs": [],
   "source": [
    "# First approach to Smart Charging Phase 1 using PuLP.\n",
    "# Modeled as a PuLP optimisation blending problem\n",
    "# Started 20 Aug 2020\n",
    "# Author: Sofia Taylor, Flexible Power Systems\n",
    "# test new laptop\n",
    "\n",
    "import numpy as np\n",
    "import pandas as pd\n",
    "import datetime as dt\n",
    "from pulp import *\n",
    "import pickle\n",
    "import global_variables as gv\n",
    "import functions as f\n",
    "import output_functions as of\n",
    "import matplotlib as mpl\n",
    "import matplotlib.pyplot as plt\n",
    "import time\n",
    "import random\n",
    "import matplotlib.dates as mdates\n",
    "import matplotlib.font_manager as font_manager\n",
    "import lin_prog_functions as lpf\n"
   ]
  },
  {
   "cell_type": "code",
   "execution_count": 2,
   "metadata": {
    "tags": []
   },
   "outputs": [],
   "source": [
    "run = 68\n",
    "charger = 22\n",
    "capacity = 80\n",
    "ca='BAU'\n",
    "site_capacity = {\n",
    "    'opt': capacity,  \n",
    "    'BAU': 10000,\n",
    "    'BAU2': capacity\n",
    "}\n",
    "#grid_file_path = 'Outputs/Logs/grid_variables{}.csv'.format(run)\n",
    "journeys = pickle.load(open('Outputs/journeys_range','rb'))\n",
    "eprice = pickle.load(open('Outputs/price_data','rb'))\n",
    "empty_profile = pickle.load(open('Outputs/empty_profile','rb'))\n"
   ]
  },
  {
   "cell_type": "code",
   "execution_count": 3,
   "metadata": {
    "tags": []
   },
   "outputs": [
    {
     "output_type": "stream",
     "name": "stdout",
     "text": "opt status: Optimal\nCost: 9683.382723055902\nBAU status: Optimal\nCost: 38138.10960782\nBAU2 status: Optimal\nCost: 40354.171677578\n2019-01-31 Status: 3 : 1 1 1\n"
    }
   ],
   "source": [
    "profile_out, dates, bad_days, lpprob = lpf.optimise_range(\n",
    "            empty_profile, \n",
    "            charger, \n",
    "            site_capacity)"
   ]
  },
  {
   "cell_type": "code",
   "execution_count": 4,
   "metadata": {},
   "outputs": [],
   "source": [
    "range_profile, site_profile, days_summary, global_summary = of.summary_outputs(\n",
    "        profile_out, \n",
    "            journeys, \n",
    "            dates)\n",
    "vehicles = range_profile.index.get_level_values(1).unique()"
   ]
  },
  {
   "cell_type": "code",
   "execution_count": 6,
   "metadata": {},
   "outputs": [
    {
     "output_type": "execute_result",
     "data": {
      "text/plain": "                     Electricity_Price  Available  Battery_Use  Output_Opt  \\\nfrom                                                                         \n2019-01-31 11:00:00              12.52          0     0.000000         0.0   \n2019-01-31 11:30:00              11.60          0   -39.007873         0.0   \n2019-01-31 12:00:00              12.02          2   -39.918087        22.0   \n2019-01-31 12:30:00              11.48          4   -23.944087        40.0   \n2019-01-31 13:00:00              12.80          3   -75.368547         0.0   \n\n                     Output_BAU  Output_BAU2  ChDelivered_Opt   ECost_Opt  \\\nfrom                                                                        \n2019-01-31 11:00:00    0.000000     0.000000              0.0    0.000000   \n2019-01-31 11:30:00    0.000000     0.000000              0.0    0.000000   \n2019-01-31 12:00:00   22.000000    22.000000             19.8  264.440000   \n2019-01-31 12:30:00   43.342082    40.000000             36.0  459.200006   \n2019-01-31 13:00:00   21.931881    25.273962              0.0    0.000000   \n\n                        SoC_Opt  ChDelivered_BAU   ECost_BAU     SoC_BAU  \\\nfrom                                                                       \n2019-01-31 11:00:00  100.000000         0.000000    0.000000  100.000000   \n2019-01-31 11:30:00   97.399475         0.000000    0.000000   97.399475   \n2019-01-31 12:00:00   96.058269        19.800000  264.440000   96.058269   \n2019-01-31 12:30:00   96.861997        39.007874  497.567101   97.062522   \n2019-01-31 13:00:00   91.837427        19.738693  280.728077   93.353865   \n\n                     ChDelivered_BAU2  ECost_BAU2    SoC_BAU2  N_Opt  N_BAU  \\\nfrom                                                                          \n2019-01-31 11:00:00          0.000000    0.000000  100.000000      0      0   \n2019-01-31 11:30:00          0.000000    0.000000   97.399475      0      0   \n2019-01-31 12:00:00         19.800000  264.440000   96.058269      2      2   \n2019-01-31 12:30:00         36.000000  459.200006   96.861997      4      4   \n2019-01-31 13:00:00         22.746566  323.506720   93.353865      0      2   \n\n                     N_BAU2        date  \nfrom                                     \n2019-01-31 11:00:00       0  2019-01-31  \n2019-01-31 11:30:00       0  2019-01-31  \n2019-01-31 12:00:00       2  2019-01-31  \n2019-01-31 12:30:00       4  2019-01-31  \n2019-01-31 13:00:00       3  2019-01-31  ",
      "text/html": "<div>\n<style scoped>\n    .dataframe tbody tr th:only-of-type {\n        vertical-align: middle;\n    }\n\n    .dataframe tbody tr th {\n        vertical-align: top;\n    }\n\n    .dataframe thead th {\n        text-align: right;\n    }\n</style>\n<table border=\"1\" class=\"dataframe\">\n  <thead>\n    <tr style=\"text-align: right;\">\n      <th></th>\n      <th>Electricity_Price</th>\n      <th>Available</th>\n      <th>Battery_Use</th>\n      <th>Output_Opt</th>\n      <th>Output_BAU</th>\n      <th>Output_BAU2</th>\n      <th>ChDelivered_Opt</th>\n      <th>ECost_Opt</th>\n      <th>SoC_Opt</th>\n      <th>ChDelivered_BAU</th>\n      <th>ECost_BAU</th>\n      <th>SoC_BAU</th>\n      <th>ChDelivered_BAU2</th>\n      <th>ECost_BAU2</th>\n      <th>SoC_BAU2</th>\n      <th>N_Opt</th>\n      <th>N_BAU</th>\n      <th>N_BAU2</th>\n      <th>date</th>\n    </tr>\n    <tr>\n      <th>from</th>\n      <th></th>\n      <th></th>\n      <th></th>\n      <th></th>\n      <th></th>\n      <th></th>\n      <th></th>\n      <th></th>\n      <th></th>\n      <th></th>\n      <th></th>\n      <th></th>\n      <th></th>\n      <th></th>\n      <th></th>\n      <th></th>\n      <th></th>\n      <th></th>\n      <th></th>\n    </tr>\n  </thead>\n  <tbody>\n    <tr>\n      <th>2019-01-31 11:00:00</th>\n      <td>12.52</td>\n      <td>0</td>\n      <td>0.000000</td>\n      <td>0.0</td>\n      <td>0.000000</td>\n      <td>0.000000</td>\n      <td>0.0</td>\n      <td>0.000000</td>\n      <td>100.000000</td>\n      <td>0.000000</td>\n      <td>0.000000</td>\n      <td>100.000000</td>\n      <td>0.000000</td>\n      <td>0.000000</td>\n      <td>100.000000</td>\n      <td>0</td>\n      <td>0</td>\n      <td>0</td>\n      <td>2019-01-31</td>\n    </tr>\n    <tr>\n      <th>2019-01-31 11:30:00</th>\n      <td>11.60</td>\n      <td>0</td>\n      <td>-39.007873</td>\n      <td>0.0</td>\n      <td>0.000000</td>\n      <td>0.000000</td>\n      <td>0.0</td>\n      <td>0.000000</td>\n      <td>97.399475</td>\n      <td>0.000000</td>\n      <td>0.000000</td>\n      <td>97.399475</td>\n      <td>0.000000</td>\n      <td>0.000000</td>\n      <td>97.399475</td>\n      <td>0</td>\n      <td>0</td>\n      <td>0</td>\n      <td>2019-01-31</td>\n    </tr>\n    <tr>\n      <th>2019-01-31 12:00:00</th>\n      <td>12.02</td>\n      <td>2</td>\n      <td>-39.918087</td>\n      <td>22.0</td>\n      <td>22.000000</td>\n      <td>22.000000</td>\n      <td>19.8</td>\n      <td>264.440000</td>\n      <td>96.058269</td>\n      <td>19.800000</td>\n      <td>264.440000</td>\n      <td>96.058269</td>\n      <td>19.800000</td>\n      <td>264.440000</td>\n      <td>96.058269</td>\n      <td>2</td>\n      <td>2</td>\n      <td>2</td>\n      <td>2019-01-31</td>\n    </tr>\n    <tr>\n      <th>2019-01-31 12:30:00</th>\n      <td>11.48</td>\n      <td>4</td>\n      <td>-23.944087</td>\n      <td>40.0</td>\n      <td>43.342082</td>\n      <td>40.000000</td>\n      <td>36.0</td>\n      <td>459.200006</td>\n      <td>96.861997</td>\n      <td>39.007874</td>\n      <td>497.567101</td>\n      <td>97.062522</td>\n      <td>36.000000</td>\n      <td>459.200006</td>\n      <td>96.861997</td>\n      <td>4</td>\n      <td>4</td>\n      <td>4</td>\n      <td>2019-01-31</td>\n    </tr>\n    <tr>\n      <th>2019-01-31 13:00:00</th>\n      <td>12.80</td>\n      <td>3</td>\n      <td>-75.368547</td>\n      <td>0.0</td>\n      <td>21.931881</td>\n      <td>25.273962</td>\n      <td>0.0</td>\n      <td>0.000000</td>\n      <td>91.837427</td>\n      <td>19.738693</td>\n      <td>280.728077</td>\n      <td>93.353865</td>\n      <td>22.746566</td>\n      <td>323.506720</td>\n      <td>93.353865</td>\n      <td>0</td>\n      <td>2</td>\n      <td>3</td>\n      <td>2019-01-31</td>\n    </tr>\n  </tbody>\n</table>\n</div>"
     },
     "metadata": {},
     "execution_count": 6
    }
   ],
   "source": [
    "site_profile.head()"
   ]
  },
  {
   "cell_type": "code",
   "execution_count": null,
   "metadata": {},
   "outputs": [],
   "source": []
  }
 ]
}