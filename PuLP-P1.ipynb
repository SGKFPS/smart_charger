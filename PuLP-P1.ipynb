{
 "metadata": {
  "language_info": {
   "codemirror_mode": {
    "name": "ipython",
    "version": 3
   },
   "file_extension": ".py",
   "mimetype": "text/x-python",
   "name": "python",
   "nbconvert_exporter": "python",
   "pygments_lexer": "ipython3",
   "version": "3.8.4-final"
  },
  "orig_nbformat": 2,
  "kernelspec": {
   "name": "python38464bitfpsscconda670f76bc6a1e4677963572c958c44815",
   "display_name": "Python 3.8.4 64-bit ('FPS-sc': conda)"
  }
 },
 "nbformat": 4,
 "nbformat_minor": 2,
 "cells": [
  {
   "cell_type": "code",
   "execution_count": 1,
   "metadata": {},
   "outputs": [],
   "source": [
    "# First approach to Smart Charging Phase 1 using PuLP\n",
    "# Started 20 Aug 2020\n",
    "\n",
    "import numpy as np\n",
    "from pulp import *"
   ]
  },
  {
   "cell_type": "code",
   "execution_count": null,
   "metadata": {},
   "outputs": [],
   "source": [
    "### Global Variables\n",
    "NUM_VEHICLES = 10\n",
    "NUM_CHARGERS = 10\n"
   ]
  }
 ]
}