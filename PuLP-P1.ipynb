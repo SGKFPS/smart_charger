{
 "metadata": {
  "language_info": {
   "codemirror_mode": {
    "name": "ipython",
    "version": 3
   },
   "file_extension": ".py",
   "mimetype": "text/x-python",
   "name": "python",
   "nbconvert_exporter": "python",
   "pygments_lexer": "ipython3",
   "version": "3.8.5-final"
  },
  "orig_nbformat": 2,
  "kernelspec": {
   "name": "python_defaultSpec_1600245109763",
   "display_name": "Python 3.8.5 64-bit ('FPS38': conda)"
  }
 },
 "nbformat": 4,
 "nbformat_minor": 2,
 "cells": [
  {
   "cell_type": "code",
   "execution_count": 1,
   "metadata": {
    "tags": []
   },
   "outputs": [],
   "source": [
    "# First approach to Smart Charging Phase 1 using PuLP.\n",
    "# Modeled as a PuLP optimisation blending problem\n",
    "# Started 20 Aug 2020\n",
    "# Author: Sofia Taylor, Flexible Power Systems\n",
    "# test new laptop\n",
    "\n",
    "import numpy as np\n",
    "import pandas as pd\n",
    "import datetime as dt\n",
    "from pulp import *\n",
    "import pickle\n",
    "import global_variables as gv\n",
    "import functions as f\n",
    "import matplotlib as mpl\n",
    "import matplotlib.pyplot as plt\n",
    "import glob\n",
    "import timeit\n",
    "import json \n",
    "import random\n",
    "import matplotlib.dates as mdates\n",
    "import matplotlib.font_manager as font_manager\n"
   ]
  },
  {
   "cell_type": "code",
   "execution_count": 2,
   "metadata": {},
   "outputs": [],
   "source": [
    "font_dirs = ['Data\\Source_Sans_Pro', ]\n",
    "font_files = font_manager.findSystemFonts(fontpaths=font_dirs)\n",
    "font_list = font_manager.createFontList(font_files)\n",
    "font_manager.fontManager.ttflist.extend(font_list)\n",
    "\n",
    "mpl.rcParams['font.family'] = 'Source Sans Pro'"
   ]
  },
  {
   "cell_type": "code",
   "execution_count": 3,
   "metadata": {
    "tags": []
   },
   "outputs": [],
   "source": [
    "day_profile =pd.read_json(open('Outputs/Logs/run10/profiles10.json',))\n",
    "site_summary =pd.read_json(open('Outputs/Logs/run10/site_summary10.json',))"
   ]
  },
  {
   "cell_type": "code",
   "execution_count": 4,
   "metadata": {},
   "outputs": [],
   "source": [
    "day_profile['Index'] = day_profile.index.values\n",
    "day_profile['from'] = day_profile['Index'].str.split('\\'').str[1]\n",
    "day_profile['Route_ID'] = day_profile['Index'].str[-8:-1]\n",
    "day_profile['from'] = day_profile['from'].astype('datetime64[ns]')\n",
    "day_profile.drop(columns='Index',inplace=True)\n",
    "day_profile.set_index(['from','Route_ID'],inplace=True)"
   ]
  },
  {
   "cell_type": "code",
   "execution_count": 5,
   "metadata": {},
   "outputs": [
    {
     "output_type": "execute_result",
     "data": {
      "text/plain": "                     Electricity_Price  Output_Opt  Output_BAU  Output_BAU2  \\\n2019-02-10 11:00:00              12.26         0.0         0.0          0.0   \n2019-02-10 11:30:00              12.02         0.0         0.0          0.0   \n2019-02-10 12:00:00              11.60         0.0        22.0         22.0   \n2019-02-10 12:30:00              11.36         0.0        22.0         22.0   \n2019-02-10 13:00:00               8.96        22.0        22.0         22.0   \n\n                     ChDelivered_Opt  ECost_Opt   SoC_Opt  ChDelivered_BAU  \\\n2019-02-10 11:00:00              0.0       0.00  65.74901              0.0   \n2019-02-10 11:30:00              0.0       0.00  65.74901              0.0   \n2019-02-10 12:00:00              0.0       0.00  65.74901             19.8   \n2019-02-10 12:30:00              0.0       0.00  65.74901             19.8   \n2019-02-10 13:00:00             19.8     197.12  66.57401             19.8   \n\n                     ECost_BAU   SoC_BAU  ChDelivered_BAU2  ECost_BAU2  \\\n2019-02-10 11:00:00       0.00  65.74901               0.0        0.00   \n2019-02-10 11:30:00       0.00  65.74901               0.0        0.00   \n2019-02-10 12:00:00     255.20  66.57401              19.8      255.20   \n2019-02-10 12:30:00     249.92  67.39901              19.8      249.92   \n2019-02-10 13:00:00     197.12  68.22401              19.8      197.12   \n\n                     SoC_BAU2  N_Opt  N_BAU  N_BAU2  \n2019-02-10 11:00:00  65.74901      0      0       0  \n2019-02-10 11:30:00  65.74901      0      0       0  \n2019-02-10 12:00:00  66.57401      0      2       2  \n2019-02-10 12:30:00  67.39901      0      2       2  \n2019-02-10 13:00:00  68.22401      2      2       2  ",
      "text/html": "<div>\n<style scoped>\n    .dataframe tbody tr th:only-of-type {\n        vertical-align: middle;\n    }\n\n    .dataframe tbody tr th {\n        vertical-align: top;\n    }\n\n    .dataframe thead th {\n        text-align: right;\n    }\n</style>\n<table border=\"1\" class=\"dataframe\">\n  <thead>\n    <tr style=\"text-align: right;\">\n      <th></th>\n      <th>Electricity_Price</th>\n      <th>Output_Opt</th>\n      <th>Output_BAU</th>\n      <th>Output_BAU2</th>\n      <th>ChDelivered_Opt</th>\n      <th>ECost_Opt</th>\n      <th>SoC_Opt</th>\n      <th>ChDelivered_BAU</th>\n      <th>ECost_BAU</th>\n      <th>SoC_BAU</th>\n      <th>ChDelivered_BAU2</th>\n      <th>ECost_BAU2</th>\n      <th>SoC_BAU2</th>\n      <th>N_Opt</th>\n      <th>N_BAU</th>\n      <th>N_BAU2</th>\n    </tr>\n  </thead>\n  <tbody>\n    <tr>\n      <th>2019-02-10 11:00:00</th>\n      <td>12.26</td>\n      <td>0.0</td>\n      <td>0.0</td>\n      <td>0.0</td>\n      <td>0.0</td>\n      <td>0.00</td>\n      <td>65.74901</td>\n      <td>0.0</td>\n      <td>0.00</td>\n      <td>65.74901</td>\n      <td>0.0</td>\n      <td>0.00</td>\n      <td>65.74901</td>\n      <td>0</td>\n      <td>0</td>\n      <td>0</td>\n    </tr>\n    <tr>\n      <th>2019-02-10 11:30:00</th>\n      <td>12.02</td>\n      <td>0.0</td>\n      <td>0.0</td>\n      <td>0.0</td>\n      <td>0.0</td>\n      <td>0.00</td>\n      <td>65.74901</td>\n      <td>0.0</td>\n      <td>0.00</td>\n      <td>65.74901</td>\n      <td>0.0</td>\n      <td>0.00</td>\n      <td>65.74901</td>\n      <td>0</td>\n      <td>0</td>\n      <td>0</td>\n    </tr>\n    <tr>\n      <th>2019-02-10 12:00:00</th>\n      <td>11.60</td>\n      <td>0.0</td>\n      <td>22.0</td>\n      <td>22.0</td>\n      <td>0.0</td>\n      <td>0.00</td>\n      <td>65.74901</td>\n      <td>19.8</td>\n      <td>255.20</td>\n      <td>66.57401</td>\n      <td>19.8</td>\n      <td>255.20</td>\n      <td>66.57401</td>\n      <td>0</td>\n      <td>2</td>\n      <td>2</td>\n    </tr>\n    <tr>\n      <th>2019-02-10 12:30:00</th>\n      <td>11.36</td>\n      <td>0.0</td>\n      <td>22.0</td>\n      <td>22.0</td>\n      <td>0.0</td>\n      <td>0.00</td>\n      <td>65.74901</td>\n      <td>19.8</td>\n      <td>249.92</td>\n      <td>67.39901</td>\n      <td>19.8</td>\n      <td>249.92</td>\n      <td>67.39901</td>\n      <td>0</td>\n      <td>2</td>\n      <td>2</td>\n    </tr>\n    <tr>\n      <th>2019-02-10 13:00:00</th>\n      <td>8.96</td>\n      <td>22.0</td>\n      <td>22.0</td>\n      <td>22.0</td>\n      <td>19.8</td>\n      <td>197.12</td>\n      <td>66.57401</td>\n      <td>19.8</td>\n      <td>197.12</td>\n      <td>68.22401</td>\n      <td>19.8</td>\n      <td>197.12</td>\n      <td>68.22401</td>\n      <td>2</td>\n      <td>2</td>\n      <td>2</td>\n    </tr>\n  </tbody>\n</table>\n</div>"
     },
     "metadata": {},
     "execution_count": 5
    }
   ],
   "source": [
    "site_summary.head()"
   ]
  },
  {
   "cell_type": "code",
   "execution_count": 6,
   "metadata": {},
   "outputs": [
    {
     "output_type": "execute_result",
     "data": {
      "text/plain": "                     Electricity_Price  Output_Opt  Output_BAU  Output_BAU2  \\\nfrom                                                                          \n2019-02-10 11:00:00              12.26         0.0         0.0          0.0   \n2019-02-10 11:30:00              12.02         0.0         0.0          0.0   \n2019-02-10 12:00:00              11.60         0.0        22.0         22.0   \n2019-02-10 12:30:00              11.36         0.0        22.0         22.0   \n2019-02-10 13:00:00               8.96        22.0        22.0         22.0   \n\n                     ChDelivered_Opt  ECost_Opt   SoC_Opt  ChDelivered_BAU  \\\nfrom                                                                         \n2019-02-10 11:00:00              0.0       0.00  65.74901              0.0   \n2019-02-10 11:30:00              0.0       0.00  65.74901              0.0   \n2019-02-10 12:00:00              0.0       0.00  65.74901             19.8   \n2019-02-10 12:30:00              0.0       0.00  65.74901             19.8   \n2019-02-10 13:00:00             19.8     197.12  66.57401             19.8   \n\n                     ECost_BAU   SoC_BAU  ChDelivered_BAU2  ECost_BAU2  \\\nfrom                                                                     \n2019-02-10 11:00:00       0.00  65.74901               0.0        0.00   \n2019-02-10 11:30:00       0.00  65.74901               0.0        0.00   \n2019-02-10 12:00:00     255.20  66.57401              19.8      255.20   \n2019-02-10 12:30:00     249.92  67.39901              19.8      249.92   \n2019-02-10 13:00:00     197.12  68.22401              19.8      197.12   \n\n                     SoC_BAU2  N_Opt  N_BAU  N_BAU2  \nfrom                                                 \n2019-02-10 11:00:00  65.74901      0      0       0  \n2019-02-10 11:30:00  65.74901      0      0       0  \n2019-02-10 12:00:00  66.57401      0      2       2  \n2019-02-10 12:30:00  67.39901      0      2       2  \n2019-02-10 13:00:00  68.22401      2      2       2  ",
      "text/html": "<div>\n<style scoped>\n    .dataframe tbody tr th:only-of-type {\n        vertical-align: middle;\n    }\n\n    .dataframe tbody tr th {\n        vertical-align: top;\n    }\n\n    .dataframe thead th {\n        text-align: right;\n    }\n</style>\n<table border=\"1\" class=\"dataframe\">\n  <thead>\n    <tr style=\"text-align: right;\">\n      <th></th>\n      <th>Electricity_Price</th>\n      <th>Output_Opt</th>\n      <th>Output_BAU</th>\n      <th>Output_BAU2</th>\n      <th>ChDelivered_Opt</th>\n      <th>ECost_Opt</th>\n      <th>SoC_Opt</th>\n      <th>ChDelivered_BAU</th>\n      <th>ECost_BAU</th>\n      <th>SoC_BAU</th>\n      <th>ChDelivered_BAU2</th>\n      <th>ECost_BAU2</th>\n      <th>SoC_BAU2</th>\n      <th>N_Opt</th>\n      <th>N_BAU</th>\n      <th>N_BAU2</th>\n    </tr>\n    <tr>\n      <th>from</th>\n      <th></th>\n      <th></th>\n      <th></th>\n      <th></th>\n      <th></th>\n      <th></th>\n      <th></th>\n      <th></th>\n      <th></th>\n      <th></th>\n      <th></th>\n      <th></th>\n      <th></th>\n      <th></th>\n      <th></th>\n      <th></th>\n    </tr>\n  </thead>\n  <tbody>\n    <tr>\n      <th>2019-02-10 11:00:00</th>\n      <td>12.26</td>\n      <td>0.0</td>\n      <td>0.0</td>\n      <td>0.0</td>\n      <td>0.0</td>\n      <td>0.00</td>\n      <td>65.74901</td>\n      <td>0.0</td>\n      <td>0.00</td>\n      <td>65.74901</td>\n      <td>0.0</td>\n      <td>0.00</td>\n      <td>65.74901</td>\n      <td>0</td>\n      <td>0</td>\n      <td>0</td>\n    </tr>\n    <tr>\n      <th>2019-02-10 11:30:00</th>\n      <td>12.02</td>\n      <td>0.0</td>\n      <td>0.0</td>\n      <td>0.0</td>\n      <td>0.0</td>\n      <td>0.00</td>\n      <td>65.74901</td>\n      <td>0.0</td>\n      <td>0.00</td>\n      <td>65.74901</td>\n      <td>0.0</td>\n      <td>0.00</td>\n      <td>65.74901</td>\n      <td>0</td>\n      <td>0</td>\n      <td>0</td>\n    </tr>\n    <tr>\n      <th>2019-02-10 12:00:00</th>\n      <td>11.60</td>\n      <td>0.0</td>\n      <td>22.0</td>\n      <td>22.0</td>\n      <td>0.0</td>\n      <td>0.00</td>\n      <td>65.74901</td>\n      <td>19.8</td>\n      <td>255.20</td>\n      <td>66.57401</td>\n      <td>19.8</td>\n      <td>255.20</td>\n      <td>66.57401</td>\n      <td>0</td>\n      <td>2</td>\n      <td>2</td>\n    </tr>\n    <tr>\n      <th>2019-02-10 12:30:00</th>\n      <td>11.36</td>\n      <td>0.0</td>\n      <td>22.0</td>\n      <td>22.0</td>\n      <td>0.0</td>\n      <td>0.00</td>\n      <td>65.74901</td>\n      <td>19.8</td>\n      <td>249.92</td>\n      <td>67.39901</td>\n      <td>19.8</td>\n      <td>249.92</td>\n      <td>67.39901</td>\n      <td>0</td>\n      <td>2</td>\n      <td>2</td>\n    </tr>\n    <tr>\n      <th>2019-02-10 13:00:00</th>\n      <td>8.96</td>\n      <td>22.0</td>\n      <td>22.0</td>\n      <td>22.0</td>\n      <td>19.8</td>\n      <td>197.12</td>\n      <td>66.57401</td>\n      <td>19.8</td>\n      <td>197.12</td>\n      <td>68.22401</td>\n      <td>19.8</td>\n      <td>197.12</td>\n      <td>68.22401</td>\n      <td>2</td>\n      <td>2</td>\n      <td>2</td>\n    </tr>\n  </tbody>\n</table>\n</div>"
     },
     "metadata": {},
     "execution_count": 6
    }
   ],
   "source": [
    "site_summary['Index'] = site_summary.index.values\n",
    "site_summary['from'] = site_summary['Index'].astype('datetime64[ns]')\n",
    "site_summary.drop(columns='Index',inplace=True)\n",
    "site_summary.set_index(['from'],inplace=True)\n",
    "site_summary.head()"
   ]
  },
  {
   "cell_type": "code",
   "execution_count": 7,
   "metadata": {},
   "outputs": [
    {
     "output_type": "execute_result",
     "data": {
      "text/plain": "                              Electricity_Price  Time_Price  Vehicle_ID  \\\nfrom                Route_ID                                              \n2019-02-10 11:00:00 2104108               12.26         502           3   \n                    2104116               12.26         502           4   \n                    2104120               12.26         502          12   \n                    2104123               12.26         502           3   \n                    2104125               12.26         502           4   \n\n                              Output_Opt  Output_BAU  Output_BAU2  \\\nfrom                Route_ID                                        \n2019-02-10 11:00:00 2104108          0.0         0.0          0.0   \n                    2104116          0.0         0.0          0.0   \n                    2104120          0.0         0.0          0.0   \n                    2104123          0.0         0.0          0.0   \n                    2104125          0.0         0.0          0.0   \n\n                              ChDelivered_Opt  ECost_Opt    SoC_Opt  \\\nfrom                Route_ID                                          \n2019-02-10 11:00:00 2104108               0.0        0.0  64.571644   \n                    2104116               0.0        0.0  68.573778   \n                    2104120               0.0        0.0  64.938542   \n                    2104123               0.0        0.0  63.152276   \n                    2104125               0.0        0.0  59.365991   \n\n                              ChDelivered_BAU  ECost_BAU    SoC_BAU  \\\nfrom                Route_ID                                          \n2019-02-10 11:00:00 2104108               0.0        0.0  64.571644   \n                    2104116               0.0        0.0  68.573778   \n                    2104120               0.0        0.0  64.938542   \n                    2104123               0.0        0.0  63.152276   \n                    2104125               0.0        0.0  59.365991   \n\n                              ChDelivered_BAU2  ECost_BAU2   SoC_BAU2  \nfrom                Route_ID                                           \n2019-02-10 11:00:00 2104108                0.0         0.0  64.571644  \n                    2104116                0.0         0.0  68.573778  \n                    2104120                0.0         0.0  64.938542  \n                    2104123                0.0         0.0  63.152276  \n                    2104125                0.0         0.0  59.365991  ",
      "text/html": "<div>\n<style scoped>\n    .dataframe tbody tr th:only-of-type {\n        vertical-align: middle;\n    }\n\n    .dataframe tbody tr th {\n        vertical-align: top;\n    }\n\n    .dataframe thead th {\n        text-align: right;\n    }\n</style>\n<table border=\"1\" class=\"dataframe\">\n  <thead>\n    <tr style=\"text-align: right;\">\n      <th></th>\n      <th></th>\n      <th>Electricity_Price</th>\n      <th>Time_Price</th>\n      <th>Vehicle_ID</th>\n      <th>Output_Opt</th>\n      <th>Output_BAU</th>\n      <th>Output_BAU2</th>\n      <th>ChDelivered_Opt</th>\n      <th>ECost_Opt</th>\n      <th>SoC_Opt</th>\n      <th>ChDelivered_BAU</th>\n      <th>ECost_BAU</th>\n      <th>SoC_BAU</th>\n      <th>ChDelivered_BAU2</th>\n      <th>ECost_BAU2</th>\n      <th>SoC_BAU2</th>\n    </tr>\n    <tr>\n      <th>from</th>\n      <th>Route_ID</th>\n      <th></th>\n      <th></th>\n      <th></th>\n      <th></th>\n      <th></th>\n      <th></th>\n      <th></th>\n      <th></th>\n      <th></th>\n      <th></th>\n      <th></th>\n      <th></th>\n      <th></th>\n      <th></th>\n      <th></th>\n    </tr>\n  </thead>\n  <tbody>\n    <tr>\n      <th rowspan=\"5\" valign=\"top\">2019-02-10 11:00:00</th>\n      <th>2104108</th>\n      <td>12.26</td>\n      <td>502</td>\n      <td>3</td>\n      <td>0.0</td>\n      <td>0.0</td>\n      <td>0.0</td>\n      <td>0.0</td>\n      <td>0.0</td>\n      <td>64.571644</td>\n      <td>0.0</td>\n      <td>0.0</td>\n      <td>64.571644</td>\n      <td>0.0</td>\n      <td>0.0</td>\n      <td>64.571644</td>\n    </tr>\n    <tr>\n      <th>2104116</th>\n      <td>12.26</td>\n      <td>502</td>\n      <td>4</td>\n      <td>0.0</td>\n      <td>0.0</td>\n      <td>0.0</td>\n      <td>0.0</td>\n      <td>0.0</td>\n      <td>68.573778</td>\n      <td>0.0</td>\n      <td>0.0</td>\n      <td>68.573778</td>\n      <td>0.0</td>\n      <td>0.0</td>\n      <td>68.573778</td>\n    </tr>\n    <tr>\n      <th>2104120</th>\n      <td>12.26</td>\n      <td>502</td>\n      <td>12</td>\n      <td>0.0</td>\n      <td>0.0</td>\n      <td>0.0</td>\n      <td>0.0</td>\n      <td>0.0</td>\n      <td>64.938542</td>\n      <td>0.0</td>\n      <td>0.0</td>\n      <td>64.938542</td>\n      <td>0.0</td>\n      <td>0.0</td>\n      <td>64.938542</td>\n    </tr>\n    <tr>\n      <th>2104123</th>\n      <td>12.26</td>\n      <td>502</td>\n      <td>3</td>\n      <td>0.0</td>\n      <td>0.0</td>\n      <td>0.0</td>\n      <td>0.0</td>\n      <td>0.0</td>\n      <td>63.152276</td>\n      <td>0.0</td>\n      <td>0.0</td>\n      <td>63.152276</td>\n      <td>0.0</td>\n      <td>0.0</td>\n      <td>63.152276</td>\n    </tr>\n    <tr>\n      <th>2104125</th>\n      <td>12.26</td>\n      <td>502</td>\n      <td>4</td>\n      <td>0.0</td>\n      <td>0.0</td>\n      <td>0.0</td>\n      <td>0.0</td>\n      <td>0.0</td>\n      <td>59.365991</td>\n      <td>0.0</td>\n      <td>0.0</td>\n      <td>59.365991</td>\n      <td>0.0</td>\n      <td>0.0</td>\n      <td>59.365991</td>\n    </tr>\n  </tbody>\n</table>\n</div>"
     },
     "metadata": {},
     "execution_count": 7
    }
   ],
   "source": [
    "day_profile.head()"
   ]
  },
  {
   "cell_type": "code",
   "execution_count": null,
   "metadata": {},
   "outputs": [],
   "source": []
  }
 ]
}