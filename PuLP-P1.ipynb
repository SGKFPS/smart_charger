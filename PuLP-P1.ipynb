{
 "metadata": {
  "language_info": {
   "codemirror_mode": {
    "name": "ipython",
    "version": 3
   },
   "file_extension": ".py",
   "mimetype": "text/x-python",
   "name": "python",
   "nbconvert_exporter": "python",
   "pygments_lexer": "ipython3",
   "version": "3.8.5-final"
  },
  "orig_nbformat": 2,
  "kernelspec": {
   "name": "python_defaultSpec_1599980970694",
   "display_name": "Python 3.8.5 64-bit ('FPS38': conda)"
  }
 },
 "nbformat": 4,
 "nbformat_minor": 2,
 "cells": [
  {
   "cell_type": "code",
   "execution_count": null,
   "metadata": {
    "tags": []
   },
   "outputs": [],
   "source": [
    "# First approach to Smart Charging Phase 1 using PuLP.\n",
    "# Modeled as a PuLP optimisation blending problem\n",
    "# Started 20 Aug 2020\n",
    "# Author: Sofia Taylor, Flexible Power Systems\n",
    "# test new laptop\n",
    "\n",
    "import numpy as np\n",
    "import pandas as pd\n",
    "import datetime as dt\n",
    "from pulp import *\n",
    "import pickle\n",
    "import global_variables as gv\n",
    "import functions as f\n",
    "import matplotlib.pyplot as plt\n",
    "import glob\n",
    "import timeit\n",
    "\n",
    "import random\n"
   ]
  },
  {
   "cell_type": "code",
   "execution_count": null,
   "metadata": {},
   "outputs": [],
   "source": [
    "# Import journey and price data\n",
    "\n",
    "journeys = pickle.load(open('Outputs/journeys_range','rb'))\n",
    "#all_journeys = pickle.load(open('Outputs/all_journeys','rb'))\n",
    "price_data = pickle.load(open('Outputs/price_data','rb'))\n",
    "BAU_profile = f.BAU_charging(journeys, price_data)\n",
    "day_journeys = f.get_daily_data(journeys, gv.DAY)\n",
    "day_profile = f.create_daily_schedule(BAU_profile, gv.DAY)\n",
    "\n"
   ]
  },
  {
   "cell_type": "code",
   "execution_count": null,
   "metadata": {},
   "outputs": [],
   "source": [
    "def linear_optimiser(profile,journeys,ca):\n",
    "    price_col = gv.CAT_COLS['PRICE'][ca]\n",
    "    output_col = gv.CAT_COLS['OUTPUT'][ca]\n",
    "    # Define output variable\n",
    "    outputs = LpVariable.dicts(\"output\",\n",
    "    ((period, route) for period, route in profile.index),\n",
    "    lowBound = 0,\n",
    "    upBound = gv.CHARGER_POWER * gv.TIME_FRACT,\n",
    "    cat = \"Continuous\"\n",
    "    )\n",
    "\n",
    "    # Create the 'prob' variable to contain the problem data\n",
    "    prob = LpProblem(\"Multiple_route_scheduling\",LpMinimize)\n",
    "\n",
    "    # Add costs to objective function\n",
    "\n",
    "    prob += lpSum(\n",
    "        [profile.loc[(period, route), price_col] * outputs[period, route] for period, route in profile.index]\n",
    "        ), \"Total Charging costs\"\n",
    "\n",
    "    # Final SOC constraint\n",
    "    time_period = profile.index.get_level_values(0)\n",
    "    routes = profile.index.get_level_values(1)\n",
    "    vehicles = journeys['Vehicle_ID'].unique()\n",
    "\n",
    "    for vehicle in vehicles:\n",
    "        vehicle_profile = profile[day_profile['Vehicle_ID'] == vehicle]\n",
    "        prob += lpSum(\n",
    "            [outputs[period, route] for period, route in vehicle_profile.index]) == journeys[journeys['Vehicle_ID'] == vehicle]['Energy_Required'].sum() / gv.CHARGER_EFF\n",
    "\n",
    "    # Output after/before departure/arrival is 0\n",
    "\n",
    "    for period, route in profile.index:\n",
    "        arrival = journeys.loc[route, \"End_Time_of_Route\"]\n",
    "        departure = journeys.loc[route, \"Next_Departure\"]\n",
    "        if period < arrival:\n",
    "            prob += outputs[(period, route)] == 0\n",
    "        elif period + dt.timedelta(minutes=30) > departure:\n",
    "            prob += outputs[period, route] == 0\n",
    "\n",
    "    # Max capacity constraint\n",
    "    n = len(time_period.unique())\n",
    "    for period in time_period:\n",
    "        prob += lpSum(\n",
    "            [outputs[period, route] for route in routes])/n <= gv.SITE_CAPACITY[ca]\n",
    "    \n",
    "    # Solve and print to the screen\n",
    "    prob.solve()\n",
    "    print(\"Status:\",ca, LpStatus[prob.status])\n",
    "\n",
    "    # Get output variables\n",
    "    charge_output = []\n",
    "\n",
    "    for period, route in outputs:\n",
    "        var_output = {\n",
    "            'from': period,\n",
    "            'Route_ID': route,\n",
    "            output_col: outputs[(period, route)].varValue\n",
    "        }\n",
    "        charge_output.append(var_output)\n",
    "\n",
    "    df = pd.DataFrame.from_records(charge_output).sort_values(['from','Route_ID'])\n",
    "    df.set_index(['from', 'Route_ID'], inplace=True)\n",
    "    print('Cost:', value(prob.objective))\n",
    "    return df, prob"
   ]
  },
  {
   "cell_type": "code",
   "execution_count": null,
   "metadata": {
    "tags": []
   },
   "outputs": [],
   "source": [
    "output_df = {}\n",
    "PuLP_prob = {}\n",
    "day_profile_out = day_profile.copy()\n",
    "for ca in gv.CATS:\n",
    "    output_df[ca], PuLP_prob[ca] = linear_optimiser(\n",
    "        day_profile,\n",
    "        day_journeys,\n",
    "        ca\n",
    "        )\n",
    "    day_profile_out = day_profile_out.merge(\n",
    "    output_df[ca],\n",
    "    how='left',\n",
    "    left_index=True,\n",
    "    right_index=True,\n",
    "    )\n"
   ]
  },
  {
   "cell_type": "code",
   "execution_count": null,
   "metadata": {
    "tags": []
   },
   "outputs": [],
   "source": [
    "day_profile, day_journeys, site_summary, global_summary = f.summary_outputs(\n",
    "    day_profile_out,\n",
    "    day_journeys\n",
    ")\n"
   ]
  },
  {
   "cell_type": "code",
   "execution_count": null,
   "metadata": {},
   "outputs": [],
   "source": [
    "fig, axs = plt.subplots(2,2,figsize=(15,15), sharex=True, gridspec_kw={'hspace':0.1})\n",
    "routes = day_profile_out.index.get_level_values(1)\n",
    "x = day_profile.unstack().index.strftime('%H:%M')\n",
    "cats = gv.CATS\n",
    "cols = gv.CAT_COLS\n",
    "\n",
    "\n",
    "# axs[0,1].plot(x, day_profile_out[gv.CAT_COLS['OUTPUT']['BAU']].unstack())\n",
    "# axs[0,1].set_title('BAU profile per Route')\n",
    "# axs[0,1].legend(routes)\n",
    "\n",
    "for ca in cats:\n",
    "    axs[0,0].plot(x, site_summary[cols['NUM'][ca]], label=ca, color=gv.COLOR[ca])\n",
    "    axs[0,1].plot(x, site_summary[cols['ECOST'][ca]], label=ca, color=gv.COLOR[ca])\n",
    "    axs[1,0].plot(x, site_summary[cols['OUTPUT'][ca]], label=ca, color=gv.COLOR[ca])\n",
    "    axs[1,1].plot(x, site_summary[cols['SOC'][ca]], label=ca, color=gv.COLOR[ca])\n",
    "\n",
    "axs[1,0].legend()\n",
    "axs[0,0].plot(x, site_summary[cols['PRICE']['opt']], label='Eletricity_price', color='tab:red')\n",
    "axs[0,0].set_title('Number of Vehicles Charging')\n",
    "axs[0,1].set_title('Electricity Costs')\n",
    "axs[1,0].set_title('Total site output')\n",
    "axs[1,1].set_title('Total site SOC')\n",
    "\n",
    "for ax in fig.get_axes():\n",
    "    ax.xaxis.set_major_locator(plt.MaxNLocator(10))"
   ]
  },
  {
   "cell_type": "code",
   "execution_count": null,
   "metadata": {},
   "outputs": [],
   "source": [
    "site_summary.head(20)"
   ]
  },
  {
   "cell_type": "code",
   "execution_count": null,
   "metadata": {},
   "outputs": [],
   "source": [
    "run = 2# For now change this manually\n",
    "notes = 'Multiple shifts'\n",
    "# Create a list of settings\n",
    "with open('global_variables.py','r') as f:\n",
    "    global_variables = f.read()\n",
    "os.makedirs('Outputs/Logs/run{}'.format(run))\n",
    "with open('Outputs/Logs/run{}/variables{}.csv'.format(run,run),'a') as f:\n",
    "    f.write(global_summary.to_string())\n",
    "    f.write('\\nglobal_variabes.py:\\n')\n",
    "    f.write(global_variables)\n",
    "    f.write(notes)\n",
    "\n",
    "# The problem data is written to an .lp file\n",
    "for ca in gv.CATS:\n",
    "    PuLP_prob[ca].writeLP(\"Outputs/Logs/run{}/multi_vehicle.lp\".format(run))\n",
    "\n",
    "# Save dataframes\n",
    "day_profile.to_json(r'Outputs/Logs/run{}/profiles{}.json'.format(run,run))\n",
    "day_journeys.to_json(r'Outputs/Logs/run{}/vehicles{}.json'.format(run,run))\n",
    "site_summary.to_json(r'Outputs/Logs/run{}/site_summary{}.json'.format(run,run))\n",
    "\n",
    "# Save figure\n",
    "fig.savefig('Outputs/Logs/run{}/fig{}.svg'.format(run,run),facecolog='white')\n",
    "plt.close(fig)"
   ]
  }
 ]
}