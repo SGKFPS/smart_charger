{
 "metadata": {
  "language_info": {
   "codemirror_mode": {
    "name": "ipython",
    "version": 3
   },
   "file_extension": ".py",
   "mimetype": "text/x-python",
   "name": "python",
   "nbconvert_exporter": "python",
   "pygments_lexer": "ipython3",
   "version": "3.8.5-final"
  },
  "orig_nbformat": 2,
  "kernelspec": {
   "name": "python_defaultSpec_1599822160969",
   "display_name": "Python 3.8.5 64-bit ('FPS38': conda)"
  }
 },
 "nbformat": 4,
 "nbformat_minor": 2,
 "cells": [
  {
   "cell_type": "code",
   "execution_count": 1,
   "metadata": {
    "tags": []
   },
   "outputs": [],
   "source": [
    "# First approach to Smart Charging Phase 1 using PuLP.\n",
    "# Modeled as a PuLP optimisation blending problem\n",
    "# Started 20 Aug 2020\n",
    "# Author: Sofia Taylor, Flexible Power Systems\n",
    "# test new laptop\n",
    "\n",
    "import numpy as np\n",
    "import pandas as pd\n",
    "import datetime as dt\n",
    "from pulp import *\n",
    "import pickle\n",
    "import global_variables as gv\n",
    "import functions as f\n",
    "import matplotlib.pyplot as plt\n",
    "import glob\n",
    "from testdata_proc import prep_data\n",
    "\n",
    "import random\n"
   ]
  },
  {
   "cell_type": "code",
   "execution_count": null,
   "metadata": {},
   "outputs": [],
   "source": [
    "# Import journey and price data\n",
    "\n",
    "prot_journeys = pickle.load(open('Data/prototype_week','rb'))\n",
    "test_journeys = pickle.load(open('Data/test_week','rb'))\n",
    "BAU_profile = pickle.load(open('Data/BAU_profile','rb'))\n",
    "day_journeys = f.get_daily_data(prot_journeys, gv.DAY)\n",
    "day_profile = f.create_daily_schedule(BAU_profile, gv.DAY)"
   ]
  },
  {
   "cell_type": "code",
   "execution_count": 2,
   "metadata": {},
   "outputs": [
    {
     "output_type": "execute_result",
     "data": {
      "text/plain": "   Route_ID  Branch_ID Start_Time_of_Route     End_Time_of_Route  \\\n0   2135563        513 2019-01-01 07:30:00  01-Jan-2019 13:54:59   \n1   2135564        513 2019-01-01 07:30:00  01-Jan-2019 14:09:00   \n2   2135565        513 2019-01-01 07:30:00  01-Jan-2019 15:30:00   \n3   2135566        513 2019-01-01 07:30:00  01-Jan-2019 12:35:00   \n4   2135567        513 2019-01-01 07:44:59  01-Jan-2019 14:01:00   \n\n   Energy_Required  Vehicle_ID        date  \n0        20.723753           1  2019-01-01  \n1        31.309560           2  2019-01-01  \n2        31.153340           3  2019-01-01  \n3        33.389727           4  2019-01-01  \n4        24.474573           5  2019-01-01  ",
      "text/html": "<div>\n<style scoped>\n    .dataframe tbody tr th:only-of-type {\n        vertical-align: middle;\n    }\n\n    .dataframe tbody tr th {\n        vertical-align: top;\n    }\n\n    .dataframe thead th {\n        text-align: right;\n    }\n</style>\n<table border=\"1\" class=\"dataframe\">\n  <thead>\n    <tr style=\"text-align: right;\">\n      <th></th>\n      <th>Route_ID</th>\n      <th>Branch_ID</th>\n      <th>Start_Time_of_Route</th>\n      <th>End_Time_of_Route</th>\n      <th>Energy_Required</th>\n      <th>Vehicle_ID</th>\n      <th>date</th>\n    </tr>\n  </thead>\n  <tbody>\n    <tr>\n      <th>0</th>\n      <td>2135563</td>\n      <td>513</td>\n      <td>2019-01-01 07:30:00</td>\n      <td>01-Jan-2019 13:54:59</td>\n      <td>20.723753</td>\n      <td>1</td>\n      <td>2019-01-01</td>\n    </tr>\n    <tr>\n      <th>1</th>\n      <td>2135564</td>\n      <td>513</td>\n      <td>2019-01-01 07:30:00</td>\n      <td>01-Jan-2019 14:09:00</td>\n      <td>31.309560</td>\n      <td>2</td>\n      <td>2019-01-01</td>\n    </tr>\n    <tr>\n      <th>2</th>\n      <td>2135565</td>\n      <td>513</td>\n      <td>2019-01-01 07:30:00</td>\n      <td>01-Jan-2019 15:30:00</td>\n      <td>31.153340</td>\n      <td>3</td>\n      <td>2019-01-01</td>\n    </tr>\n    <tr>\n      <th>3</th>\n      <td>2135566</td>\n      <td>513</td>\n      <td>2019-01-01 07:30:00</td>\n      <td>01-Jan-2019 12:35:00</td>\n      <td>33.389727</td>\n      <td>4</td>\n      <td>2019-01-01</td>\n    </tr>\n    <tr>\n      <th>4</th>\n      <td>2135567</td>\n      <td>513</td>\n      <td>2019-01-01 07:44:59</td>\n      <td>01-Jan-2019 14:01:00</td>\n      <td>24.474573</td>\n      <td>5</td>\n      <td>2019-01-01</td>\n    </tr>\n  </tbody>\n</table>\n</div>"
     },
     "metadata": {},
     "execution_count": 2
    }
   ],
   "source": [
    "all_journeys = prep_data(gv.data_path)\n",
    "all_journeys.head()"
   ]
  },
  {
   "cell_type": "code",
   "execution_count": 3,
   "metadata": {},
   "outputs": [
    {
     "output_type": "execute_result",
     "data": {
      "text/plain": "[0, 1, 2, 5, 9, 10, 11, 12, 17, 19]"
     },
     "metadata": {},
     "execution_count": 3
    }
   ],
   "source": [
    "gv.VANS['TEST']"
   ]
  },
  {
   "cell_type": "code",
   "execution_count": 4,
   "metadata": {},
   "outputs": [],
   "source": [
    "def limit_vehicles_multishift(journeys, category):\n",
    "    list_days = list(journeys.date.unique())\n",
    "    journey_list = []\n",
    "    for day in list_days:\n",
    "        daily_journeys = journeys[journeys['date']==day]\n",
    "        select_journeys = daily_journeys[\n",
    "            daily_journeys['Vehicle_ID'].isin(gv.VANS[category])]\n",
    "        journey_list.append(select_journeys)\n",
    "    return pd.concat(journey_list)"
   ]
  },
  {
   "cell_type": "code",
   "execution_count": 5,
   "metadata": {},
   "outputs": [
    {
     "output_type": "execute_result",
     "data": {
      "text/plain": "(26524, 7)"
     },
     "metadata": {},
     "execution_count": 5
    }
   ],
   "source": [
    "all_journeys.shape"
   ]
  },
  {
   "cell_type": "code",
   "execution_count": 5,
   "metadata": {},
   "outputs": [
    {
     "output_type": "execute_result",
     "data": {
      "text/plain": "       Route_ID  Branch_ID Start_Time_of_Route     End_Time_of_Route  \\\n2       2135565        513 2019-01-01 07:30:00  01-Jan-2019 15:30:00   \n3       2135566        513 2019-01-01 07:30:00  01-Jan-2019 12:35:00   \n5       2135568        513 2019-01-01 07:44:59  01-Jan-2019 15:28:00   \n6       2135569        513 2019-01-01 07:44:59  01-Jan-2019 15:18:00   \n7       2135570        513 2019-01-01 07:44:59  01-Jan-2019 15:20:00   \n...         ...        ...                 ...                   ...   \n37215   2695229        513 2019-12-31 05:50:59  31-Dec-2019 13:53:00   \n37216   2695233        513 2019-12-31 05:56:00  31-Dec-2019 13:13:00   \n37217   2695232        513 2019-12-31 06:00:00  31-Dec-2019 12:52:00   \n37218   2695242        513 2019-12-31 06:09:00  31-Dec-2019 14:37:00   \n37220   2695249        513 2019-12-31 06:14:59  31-Dec-2019 13:36:00   \n\n       Energy_Required  Vehicle_ID        date  \n2            31.153340           3  2019-01-01  \n3            33.389727           4  2019-01-01  \n5            24.143413           6  2019-01-01  \n6            21.708560           7  2019-01-01  \n7            19.793687           8  2019-01-01  \n...                ...         ...         ...  \n37215        23.019267          13  2019-12-31  \n37216        23.943767          14  2019-12-31  \n37217        26.178493          15  2019-12-31  \n37218        39.633093          16  2019-12-31  \n37220        24.390180          18  2019-12-31  \n\n[6961 rows x 7 columns]",
      "text/html": "<div>\n<style scoped>\n    .dataframe tbody tr th:only-of-type {\n        vertical-align: middle;\n    }\n\n    .dataframe tbody tr th {\n        vertical-align: top;\n    }\n\n    .dataframe thead th {\n        text-align: right;\n    }\n</style>\n<table border=\"1\" class=\"dataframe\">\n  <thead>\n    <tr style=\"text-align: right;\">\n      <th></th>\n      <th>Route_ID</th>\n      <th>Branch_ID</th>\n      <th>Start_Time_of_Route</th>\n      <th>End_Time_of_Route</th>\n      <th>Energy_Required</th>\n      <th>Vehicle_ID</th>\n      <th>date</th>\n    </tr>\n  </thead>\n  <tbody>\n    <tr>\n      <th>2</th>\n      <td>2135565</td>\n      <td>513</td>\n      <td>2019-01-01 07:30:00</td>\n      <td>01-Jan-2019 15:30:00</td>\n      <td>31.153340</td>\n      <td>3</td>\n      <td>2019-01-01</td>\n    </tr>\n    <tr>\n      <th>3</th>\n      <td>2135566</td>\n      <td>513</td>\n      <td>2019-01-01 07:30:00</td>\n      <td>01-Jan-2019 12:35:00</td>\n      <td>33.389727</td>\n      <td>4</td>\n      <td>2019-01-01</td>\n    </tr>\n    <tr>\n      <th>5</th>\n      <td>2135568</td>\n      <td>513</td>\n      <td>2019-01-01 07:44:59</td>\n      <td>01-Jan-2019 15:28:00</td>\n      <td>24.143413</td>\n      <td>6</td>\n      <td>2019-01-01</td>\n    </tr>\n    <tr>\n      <th>6</th>\n      <td>2135569</td>\n      <td>513</td>\n      <td>2019-01-01 07:44:59</td>\n      <td>01-Jan-2019 15:18:00</td>\n      <td>21.708560</td>\n      <td>7</td>\n      <td>2019-01-01</td>\n    </tr>\n    <tr>\n      <th>7</th>\n      <td>2135570</td>\n      <td>513</td>\n      <td>2019-01-01 07:44:59</td>\n      <td>01-Jan-2019 15:20:00</td>\n      <td>19.793687</td>\n      <td>8</td>\n      <td>2019-01-01</td>\n    </tr>\n    <tr>\n      <th>...</th>\n      <td>...</td>\n      <td>...</td>\n      <td>...</td>\n      <td>...</td>\n      <td>...</td>\n      <td>...</td>\n      <td>...</td>\n    </tr>\n    <tr>\n      <th>37215</th>\n      <td>2695229</td>\n      <td>513</td>\n      <td>2019-12-31 05:50:59</td>\n      <td>31-Dec-2019 13:53:00</td>\n      <td>23.019267</td>\n      <td>13</td>\n      <td>2019-12-31</td>\n    </tr>\n    <tr>\n      <th>37216</th>\n      <td>2695233</td>\n      <td>513</td>\n      <td>2019-12-31 05:56:00</td>\n      <td>31-Dec-2019 13:13:00</td>\n      <td>23.943767</td>\n      <td>14</td>\n      <td>2019-12-31</td>\n    </tr>\n    <tr>\n      <th>37217</th>\n      <td>2695232</td>\n      <td>513</td>\n      <td>2019-12-31 06:00:00</td>\n      <td>31-Dec-2019 12:52:00</td>\n      <td>26.178493</td>\n      <td>15</td>\n      <td>2019-12-31</td>\n    </tr>\n    <tr>\n      <th>37218</th>\n      <td>2695242</td>\n      <td>513</td>\n      <td>2019-12-31 06:09:00</td>\n      <td>31-Dec-2019 14:37:00</td>\n      <td>39.633093</td>\n      <td>16</td>\n      <td>2019-12-31</td>\n    </tr>\n    <tr>\n      <th>37220</th>\n      <td>2695249</td>\n      <td>513</td>\n      <td>2019-12-31 06:14:59</td>\n      <td>31-Dec-2019 13:36:00</td>\n      <td>24.390180</td>\n      <td>18</td>\n      <td>2019-12-31</td>\n    </tr>\n  </tbody>\n</table>\n<p>6961 rows × 7 columns</p>\n</div>"
     },
     "metadata": {},
     "execution_count": 5
    }
   ],
   "source": [
    "# Select a set of vans for the whole time period, and another set for testing\n",
    "limit_vehicles_multishift(all_journeys, 'PROT')"
   ]
  },
  {
   "cell_type": "code",
   "execution_count": null,
   "metadata": {},
   "outputs": [],
   "source": []
  }
 ]
}