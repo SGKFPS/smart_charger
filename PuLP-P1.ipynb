{
 "metadata": {
  "language_info": {
   "codemirror_mode": {
    "name": "ipython",
    "version": 3
   },
   "file_extension": ".py",
   "mimetype": "text/x-python",
   "name": "python",
   "nbconvert_exporter": "python",
   "pygments_lexer": "ipython3",
   "version": "3.8.5-final"
  },
  "orig_nbformat": 2,
  "kernelspec": {
   "name": "python_defaultSpec_1600341608841",
   "display_name": "Python 3.8.5 64-bit ('FPS38': conda)"
  }
 },
 "nbformat": 4,
 "nbformat_minor": 2,
 "cells": [
  {
   "cell_type": "code",
   "execution_count": 1,
   "metadata": {
    "tags": []
   },
   "outputs": [],
   "source": [
    "# First approach to Smart Charging Phase 1 using PuLP.\n",
    "# Modeled as a PuLP optimisation blending problem\n",
    "# Started 20 Aug 2020\n",
    "# Author: Sofia Taylor, Flexible Power Systems\n",
    "# test new laptop\n",
    "\n",
    "import numpy as np\n",
    "import pandas as pd\n",
    "import datetime as dt\n",
    "from pulp import *\n",
    "import pickle\n",
    "import global_variables as gv\n",
    "import functions as f\n",
    "import output_functions as of\n",
    "import matplotlib as mpl\n",
    "import matplotlib.pyplot as plt\n",
    "import glob\n",
    "import timeit\n",
    "import json \n",
    "import time\n",
    "import random\n",
    "import matplotlib.dates as mdates\n",
    "import matplotlib.font_manager as font_manager\n",
    "import lin_prog_functions as lpf\n"
   ]
  }
 ]
}